{
 "cells": [
  {
   "cell_type": "code",
   "execution_count": 51,
   "metadata": {},
   "outputs": [],
   "source": [
    "from shapely.geometry import Point\n",
    "import pandas as pd\n",
    "import geopandas as gpd\n",
    "import matplotlib.pyplot as plt\n",
    "import folium\n",
    "from folium.plugins import MarkerCluster\n",
    "from folium.plugins import FastMarkerCluster"
   ]
  },
  {
   "cell_type": "code",
   "execution_count": 52,
   "metadata": {},
   "outputs": [],
   "source": [
    "calls_derecho_df = pd.read_csv('data/911_Phone Calls_Derecho_050320 050420.csv')"
   ]
  },
  {
   "cell_type": "code",
   "execution_count": 53,
   "metadata": {},
   "outputs": [
    {
     "data": {
      "text/plain": [
       "(1549, 5)"
      ]
     },
     "execution_count": 53,
     "metadata": {},
     "output_type": "execute_result"
    }
   ],
   "source": [
    "calls_derecho_df.shape"
   ]
  },
  {
   "cell_type": "code",
   "execution_count": 54,
   "metadata": {},
   "outputs": [
    {
     "data": {
      "text/html": [
       "<div>\n",
       "<style scoped>\n",
       "    .dataframe tbody tr th:only-of-type {\n",
       "        vertical-align: middle;\n",
       "    }\n",
       "\n",
       "    .dataframe tbody tr th {\n",
       "        vertical-align: top;\n",
       "    }\n",
       "\n",
       "    .dataframe thead th {\n",
       "        text-align: right;\n",
       "    }\n",
       "</style>\n",
       "<table border=\"1\" class=\"dataframe\">\n",
       "  <thead>\n",
       "    <tr style=\"text-align: right;\">\n",
       "      <th></th>\n",
       "      <th>Seizure DateTime</th>\n",
       "      <th>CallTypeId</th>\n",
       "      <th>ALI Latitude</th>\n",
       "      <th>ALI Longitude</th>\n",
       "      <th>Cell Tower Address</th>\n",
       "    </tr>\n",
       "  </thead>\n",
       "  <tbody>\n",
       "    <tr>\n",
       "      <th>0</th>\n",
       "      <td>5/3/2020 16:30</td>\n",
       "      <td>911 Calls</td>\n",
       "      <td>36.247802</td>\n",
       "      <td>-86.716847</td>\n",
       "      <td>WIRELESS CALLER</td>\n",
       "    </tr>\n",
       "    <tr>\n",
       "      <th>1</th>\n",
       "      <td>5/3/2020 16:30</td>\n",
       "      <td>911 Calls</td>\n",
       "      <td>36.143108</td>\n",
       "      <td>-86.800621</td>\n",
       "      <td>1161 21ST AV S - SE</td>\n",
       "    </tr>\n",
       "    <tr>\n",
       "      <th>2</th>\n",
       "      <td>5/3/2020 16:30</td>\n",
       "      <td>911 Calls</td>\n",
       "      <td>36.100516</td>\n",
       "      <td>-87.056329</td>\n",
       "      <td>8013 C MCCRORY LN - N</td>\n",
       "    </tr>\n",
       "    <tr>\n",
       "      <th>3</th>\n",
       "      <td>5/3/2020 16:30</td>\n",
       "      <td>911 Calls</td>\n",
       "      <td>36.130021</td>\n",
       "      <td>-86.927819</td>\n",
       "      <td>5758 RIVER RD - SW</td>\n",
       "    </tr>\n",
       "    <tr>\n",
       "      <th>4</th>\n",
       "      <td>5/3/2020 16:31</td>\n",
       "      <td>911 Calls</td>\n",
       "      <td>36.142380</td>\n",
       "      <td>-86.881882</td>\n",
       "      <td>3744B ANNEX AVE - SE</td>\n",
       "    </tr>\n",
       "  </tbody>\n",
       "</table>\n",
       "</div>"
      ],
      "text/plain": [
       "  Seizure DateTime CallTypeId  ALI Latitude  ALI Longitude  \\\n",
       "0   5/3/2020 16:30  911 Calls     36.247802     -86.716847   \n",
       "1   5/3/2020 16:30  911 Calls     36.143108     -86.800621   \n",
       "2   5/3/2020 16:30  911 Calls     36.100516     -87.056329   \n",
       "3   5/3/2020 16:30  911 Calls     36.130021     -86.927819   \n",
       "4   5/3/2020 16:31  911 Calls     36.142380     -86.881882   \n",
       "\n",
       "      Cell Tower Address  \n",
       "0        WIRELESS CALLER  \n",
       "1    1161 21ST AV S - SE  \n",
       "2  8013 C MCCRORY LN - N  \n",
       "3     5758 RIVER RD - SW  \n",
       "4   3744B ANNEX AVE - SE  "
      ]
     },
     "execution_count": 54,
     "metadata": {},
     "output_type": "execute_result"
    }
   ],
   "source": [
    "calls_derecho_df.head()"
   ]
  },
  {
   "cell_type": "code",
   "execution_count": 55,
   "metadata": {},
   "outputs": [
    {
     "data": {
      "text/plain": [
       "WIRELESS CALLER                    339\n",
       "4400 HARDING PIKE - E               15\n",
       "WIRELESS 911 CALLER                 14\n",
       "3333 LEBANON PIKE - N               14\n",
       "3009D DARRINGTON WAY - N            14\n",
       "                                  ... \n",
       "1950 DABBS AVE - NE                  1\n",
       "2321 HOBSON PIKE - NW Sector         1\n",
       "1823D 12TH AVE S - S                 1\n",
       "828 DICKERSON PIKE - SE              1\n",
       "4507 D KENTUCKY AVE - SE Sector      1\n",
       "Name: Cell Tower Address, Length: 630, dtype: int64"
      ]
     },
     "execution_count": 55,
     "metadata": {},
     "output_type": "execute_result"
    }
   ],
   "source": [
    "calls_derecho_df['Cell Tower Address'].value_counts()"
   ]
  },
  {
   "cell_type": "code",
   "execution_count": 56,
   "metadata": {},
   "outputs": [
    {
     "data": {
      "text/plain": [
       "5/3/2020 18:58    12\n",
       "5/3/2020 16:36    12\n",
       "5/3/2020 18:04    11\n",
       "5/3/2020 18:48    11\n",
       "5/3/2020 17:19    10\n",
       "                  ..\n",
       "5/3/2020 23:43     1\n",
       "5/3/2020 22:42     1\n",
       "5/3/2020 22:13     1\n",
       "5/3/2020 20:02     1\n",
       "5/3/2020 21:04     1\n",
       "Name: Seizure DateTime, Length: 416, dtype: int64"
      ]
     },
     "execution_count": 56,
     "metadata": {},
     "output_type": "execute_result"
    }
   ],
   "source": [
    "calls_derecho_df['Seizure DateTime'].value_counts()"
   ]
  },
  {
   "cell_type": "code",
   "execution_count": null,
   "metadata": {},
   "outputs": [],
   "source": []
  },
  {
   "cell_type": "code",
   "execution_count": null,
   "metadata": {},
   "outputs": [],
   "source": []
  },
  {
   "cell_type": "code",
   "execution_count": 57,
   "metadata": {},
   "outputs": [],
   "source": [
    "calls_tornado_df = pd.read_csv('data/911_Phone_Calls_Tornado_030320.csv')"
   ]
  },
  {
   "cell_type": "code",
   "execution_count": 58,
   "metadata": {},
   "outputs": [
    {
     "data": {
      "text/plain": [
       "(475, 5)"
      ]
     },
     "execution_count": 58,
     "metadata": {},
     "output_type": "execute_result"
    }
   ],
   "source": [
    "calls_tornado_df.shape"
   ]
  },
  {
   "cell_type": "code",
   "execution_count": 59,
   "metadata": {},
   "outputs": [
    {
     "data": {
      "text/html": [
       "<div>\n",
       "<style scoped>\n",
       "    .dataframe tbody tr th:only-of-type {\n",
       "        vertical-align: middle;\n",
       "    }\n",
       "\n",
       "    .dataframe tbody tr th {\n",
       "        vertical-align: top;\n",
       "    }\n",
       "\n",
       "    .dataframe thead th {\n",
       "        text-align: right;\n",
       "    }\n",
       "</style>\n",
       "<table border=\"1\" class=\"dataframe\">\n",
       "  <thead>\n",
       "    <tr style=\"text-align: right;\">\n",
       "      <th></th>\n",
       "      <th>Seizure DateTime</th>\n",
       "      <th>CallTypeId</th>\n",
       "      <th>ALI Latitude</th>\n",
       "      <th>ALI Longitude</th>\n",
       "      <th>Cell Tower Address</th>\n",
       "    </tr>\n",
       "  </thead>\n",
       "  <tbody>\n",
       "    <tr>\n",
       "      <th>0</th>\n",
       "      <td>3/3/2020 0:34</td>\n",
       "      <td>911 Calls</td>\n",
       "      <td>36.072708</td>\n",
       "      <td>-86.665779</td>\n",
       "      <td>620 Richards RD - N Sector</td>\n",
       "    </tr>\n",
       "    <tr>\n",
       "      <th>1</th>\n",
       "      <td>3/3/2020 0:36</td>\n",
       "      <td>911 Calls</td>\n",
       "      <td>36.159634</td>\n",
       "      <td>-86.841904</td>\n",
       "      <td>4507D KENTUCKY AV - SE</td>\n",
       "    </tr>\n",
       "    <tr>\n",
       "      <th>2</th>\n",
       "      <td>3/3/2020 0:36</td>\n",
       "      <td>911 Calls</td>\n",
       "      <td>36.264153</td>\n",
       "      <td>-86.708862</td>\n",
       "      <td>329 THELMA ST - S Sector</td>\n",
       "    </tr>\n",
       "    <tr>\n",
       "      <th>3</th>\n",
       "      <td>3/3/2020 0:36</td>\n",
       "      <td>911 Calls</td>\n",
       "      <td>NaN</td>\n",
       "      <td>NaN</td>\n",
       "      <td>526 FOUNDRY DR</td>\n",
       "    </tr>\n",
       "    <tr>\n",
       "      <th>4</th>\n",
       "      <td>3/3/2020 0:36</td>\n",
       "      <td>911 Calls</td>\n",
       "      <td>36.233467</td>\n",
       "      <td>-86.721077</td>\n",
       "      <td>5007B RUSKIN AVE - N</td>\n",
       "    </tr>\n",
       "  </tbody>\n",
       "</table>\n",
       "</div>"
      ],
      "text/plain": [
       "  Seizure DateTime CallTypeId  ALI Latitude  ALI Longitude  \\\n",
       "0    3/3/2020 0:34  911 Calls     36.072708     -86.665779   \n",
       "1    3/3/2020 0:36  911 Calls     36.159634     -86.841904   \n",
       "2    3/3/2020 0:36  911 Calls     36.264153     -86.708862   \n",
       "3    3/3/2020 0:36  911 Calls           NaN            NaN   \n",
       "4    3/3/2020 0:36  911 Calls     36.233467     -86.721077   \n",
       "\n",
       "           Cell Tower Address  \n",
       "0  620 Richards RD - N Sector  \n",
       "1      4507D KENTUCKY AV - SE  \n",
       "2    329 THELMA ST - S Sector  \n",
       "3              526 FOUNDRY DR  \n",
       "4        5007B RUSKIN AVE - N  "
      ]
     },
     "execution_count": 59,
     "metadata": {},
     "output_type": "execute_result"
    }
   ],
   "source": [
    "calls_tornado_df.head()"
   ]
  },
  {
   "cell_type": "code",
   "execution_count": 60,
   "metadata": {},
   "outputs": [
    {
     "data": {
      "text/plain": [
       "WIRELESS CALLER                       101\n",
       "907 12TH AV N - N                      16\n",
       "1051G CHICAMAUGA AVE - S               10\n",
       "3333 LEBANON PIKE - SE                  8\n",
       "4940 OLD HICKORY BLVD. - SE SECTOR      7\n",
       "                                     ... \n",
       "1345 DICKERSON PIKE S - SW              1\n",
       "1014 LOOBY CIR                          1\n",
       "1051G CHICAMAUGA AVE - NW               1\n",
       "859C GRANADA AVE - SE                   1\n",
       "264 CRAIGMEADE DR - SE SECTOR           1\n",
       "Name: Cell Tower Address, Length: 211, dtype: int64"
      ]
     },
     "execution_count": 60,
     "metadata": {},
     "output_type": "execute_result"
    }
   ],
   "source": [
    "calls_tornado_df['Cell Tower Address'].value_counts()"
   ]
  },
  {
   "cell_type": "code",
   "execution_count": null,
   "metadata": {},
   "outputs": [],
   "source": []
  },
  {
   "cell_type": "code",
   "execution_count": null,
   "metadata": {},
   "outputs": [],
   "source": []
  },
  {
   "cell_type": "code",
   "execution_count": null,
   "metadata": {},
   "outputs": [],
   "source": []
  },
  {
   "cell_type": "markdown",
   "metadata": {},
   "source": [
    "# start of Derecho DF"
   ]
  },
  {
   "cell_type": "code",
   "execution_count": 61,
   "metadata": {},
   "outputs": [],
   "source": [
    "dispatch_derecho_df = pd.read_csv('data/Computer_Aided_Dispatch_Data_Derecho_Incidents_050320-050420.csv', skiprows = 3)"
   ]
  },
  {
   "cell_type": "code",
   "execution_count": 62,
   "metadata": {},
   "outputs": [
    {
     "data": {
      "text/plain": [
       "(627, 5)"
      ]
     },
     "execution_count": 62,
     "metadata": {},
     "output_type": "execute_result"
    }
   ],
   "source": [
    "dispatch_derecho_df.shape"
   ]
  },
  {
   "cell_type": "code",
   "execution_count": 63,
   "metadata": {},
   "outputs": [
    {
     "data": {
      "text/html": [
       "<div>\n",
       "<style scoped>\n",
       "    .dataframe tbody tr th:only-of-type {\n",
       "        vertical-align: middle;\n",
       "    }\n",
       "\n",
       "    .dataframe tbody tr th {\n",
       "        vertical-align: top;\n",
       "    }\n",
       "\n",
       "    .dataframe thead th {\n",
       "        text-align: right;\n",
       "    }\n",
       "</style>\n",
       "<table border=\"1\" class=\"dataframe\">\n",
       "  <thead>\n",
       "    <tr style=\"text-align: right;\">\n",
       "      <th></th>\n",
       "      <th>IncidentDate</th>\n",
       "      <th>Location</th>\n",
       "      <th>Latitude1</th>\n",
       "      <th>Longitude1</th>\n",
       "      <th>IncidentTypeDescription1</th>\n",
       "    </tr>\n",
       "  </thead>\n",
       "  <tbody>\n",
       "    <tr>\n",
       "      <th>0</th>\n",
       "      <td>5/3/2020 4:31:07 PM</td>\n",
       "      <td>901 KENWICK CT W</td>\n",
       "      <td>36.046877</td>\n",
       "      <td>-86.962526</td>\n",
       "      <td>ELECTRICAL HAZARD</td>\n",
       "    </tr>\n",
       "    <tr>\n",
       "      <th>1</th>\n",
       "      <td>5/3/2020 4:32:18 PM</td>\n",
       "      <td>8036 ARBOR DR</td>\n",
       "      <td>36.082491</td>\n",
       "      <td>-86.940680</td>\n",
       "      <td>ELECTRICAL HAZARD</td>\n",
       "    </tr>\n",
       "    <tr>\n",
       "      <th>2</th>\n",
       "      <td>5/3/2020 4:32:23 PM</td>\n",
       "      <td>119 DUE WEST AV E</td>\n",
       "      <td>36.248029</td>\n",
       "      <td>-86.716875</td>\n",
       "      <td>NOT ALERT COPD</td>\n",
       "    </tr>\n",
       "    <tr>\n",
       "      <th>3</th>\n",
       "      <td>5/3/2020 4:33:04 PM</td>\n",
       "      <td>630 GALLATIN PKE S</td>\n",
       "      <td>36.256491</td>\n",
       "      <td>-86.714817</td>\n",
       "      <td>ABDOMINAL PAIN</td>\n",
       "    </tr>\n",
       "    <tr>\n",
       "      <th>4</th>\n",
       "      <td>5/3/2020 4:33:52 PM</td>\n",
       "      <td>615 W HILLWOOD DR</td>\n",
       "      <td>36.129690</td>\n",
       "      <td>-86.879834</td>\n",
       "      <td>ELECTRICAL HAZARD</td>\n",
       "    </tr>\n",
       "    <tr>\n",
       "      <th>5</th>\n",
       "      <td>5/3/2020 4:33:53 PM</td>\n",
       "      <td>622 BROOK HOLLOW RD</td>\n",
       "      <td>36.111773</td>\n",
       "      <td>-86.888087</td>\n",
       "      <td>ELECTRICAL HAZARD</td>\n",
       "    </tr>\n",
       "    <tr>\n",
       "      <th>6</th>\n",
       "      <td>5/3/2020 4:34:19 PM</td>\n",
       "      <td>JOCELYN HOLLOW RD / BRESSLYN RD</td>\n",
       "      <td>36.103318</td>\n",
       "      <td>-86.898080</td>\n",
       "      <td>ELECTRICAL HAZARD</td>\n",
       "    </tr>\n",
       "    <tr>\n",
       "      <th>7</th>\n",
       "      <td>5/3/2020 4:35:01 PM</td>\n",
       "      <td>WOODLAND ST / S 7TH ST</td>\n",
       "      <td>36.173583</td>\n",
       "      <td>-86.760339</td>\n",
       "      <td>SEIZURE: EFFECTIVE BREATHING NOT VERIFIED &gt;35</td>\n",
       "    </tr>\n",
       "    <tr>\n",
       "      <th>8</th>\n",
       "      <td>5/3/2020 4:36:42 PM</td>\n",
       "      <td>3000 POSTON AV</td>\n",
       "      <td>36.145332</td>\n",
       "      <td>-86.815356</td>\n",
       "      <td>GENERAL ALARM COMMERCIAL   INDUSTRIAL BUILD</td>\n",
       "    </tr>\n",
       "    <tr>\n",
       "      <th>9</th>\n",
       "      <td>5/3/2020 4:37:04 PM</td>\n",
       "      <td>51ST AV N / CENTENNIAL BLVD</td>\n",
       "      <td>36.162326</td>\n",
       "      <td>-86.849144</td>\n",
       "      <td>ELECTRICAL HAZARD</td>\n",
       "    </tr>\n",
       "  </tbody>\n",
       "</table>\n",
       "</div>"
      ],
      "text/plain": [
       "          IncidentDate                         Location  Latitude1  \\\n",
       "0  5/3/2020 4:31:07 PM                 901 KENWICK CT W  36.046877   \n",
       "1  5/3/2020 4:32:18 PM                    8036 ARBOR DR  36.082491   \n",
       "2  5/3/2020 4:32:23 PM                119 DUE WEST AV E  36.248029   \n",
       "3  5/3/2020 4:33:04 PM               630 GALLATIN PKE S  36.256491   \n",
       "4  5/3/2020 4:33:52 PM                615 W HILLWOOD DR  36.129690   \n",
       "5  5/3/2020 4:33:53 PM              622 BROOK HOLLOW RD  36.111773   \n",
       "6  5/3/2020 4:34:19 PM  JOCELYN HOLLOW RD / BRESSLYN RD  36.103318   \n",
       "7  5/3/2020 4:35:01 PM           WOODLAND ST / S 7TH ST  36.173583   \n",
       "8  5/3/2020 4:36:42 PM                  3000 POSTON AV   36.145332   \n",
       "9  5/3/2020 4:37:04 PM      51ST AV N / CENTENNIAL BLVD  36.162326   \n",
       "\n",
       "   Longitude1                       IncidentTypeDescription1  \n",
       "0  -86.962526                              ELECTRICAL HAZARD  \n",
       "1  -86.940680                              ELECTRICAL HAZARD  \n",
       "2  -86.716875                                 NOT ALERT COPD  \n",
       "3  -86.714817                                 ABDOMINAL PAIN  \n",
       "4  -86.879834                              ELECTRICAL HAZARD  \n",
       "5  -86.888087                              ELECTRICAL HAZARD  \n",
       "6  -86.898080                              ELECTRICAL HAZARD  \n",
       "7  -86.760339  SEIZURE: EFFECTIVE BREATHING NOT VERIFIED >35  \n",
       "8  -86.815356    GENERAL ALARM COMMERCIAL   INDUSTRIAL BUILD  \n",
       "9  -86.849144                              ELECTRICAL HAZARD  "
      ]
     },
     "execution_count": 63,
     "metadata": {},
     "output_type": "execute_result"
    }
   ],
   "source": [
    "dispatch_derecho_df.head(10)"
   ]
  },
  {
   "cell_type": "code",
   "execution_count": 64,
   "metadata": {},
   "outputs": [
    {
     "data": {
      "text/html": [
       "<div>\n",
       "<style scoped>\n",
       "    .dataframe tbody tr th:only-of-type {\n",
       "        vertical-align: middle;\n",
       "    }\n",
       "\n",
       "    .dataframe tbody tr th {\n",
       "        vertical-align: top;\n",
       "    }\n",
       "\n",
       "    .dataframe thead th {\n",
       "        text-align: right;\n",
       "    }\n",
       "</style>\n",
       "<table border=\"1\" class=\"dataframe\">\n",
       "  <thead>\n",
       "    <tr style=\"text-align: right;\">\n",
       "      <th></th>\n",
       "      <th>IncidentDate</th>\n",
       "      <th>Location</th>\n",
       "      <th>Latitude1</th>\n",
       "      <th>Longitude1</th>\n",
       "      <th>IncidentTypeDescription1</th>\n",
       "    </tr>\n",
       "  </thead>\n",
       "  <tbody>\n",
       "    <tr>\n",
       "      <th>617</th>\n",
       "      <td>5/3/2020 11:58:29 PM</td>\n",
       "      <td>2618 ESSEX PL</td>\n",
       "      <td>36.132719</td>\n",
       "      <td>-86.810791</td>\n",
       "      <td>ELECTRICAL HAZARD</td>\n",
       "    </tr>\n",
       "    <tr>\n",
       "      <th>618</th>\n",
       "      <td>5/3/2020 11:59:51 PM</td>\n",
       "      <td>304 ELMINGTON AV</td>\n",
       "      <td>36.133028</td>\n",
       "      <td>-86.822201</td>\n",
       "      <td>ELECTRICAL HAZARD</td>\n",
       "    </tr>\n",
       "    <tr>\n",
       "      <th>619</th>\n",
       "      <td>5/4/2020 12:05:58 AM</td>\n",
       "      <td>2011 HAYES ST</td>\n",
       "      <td>36.151839</td>\n",
       "      <td>-86.800791</td>\n",
       "      <td>PULL STATION ALARM COMMERCIAL   INDUSTRIAL BUILD</td>\n",
       "    </tr>\n",
       "    <tr>\n",
       "      <th>620</th>\n",
       "      <td>5/4/2020 12:09:25 AM</td>\n",
       "      <td>5820 LABRADOR LN</td>\n",
       "      <td>36.031867</td>\n",
       "      <td>-86.711384</td>\n",
       "      <td>ELECTRICAL HAZARD</td>\n",
       "    </tr>\n",
       "    <tr>\n",
       "      <th>621</th>\n",
       "      <td>5/4/2020 12:12:37 AM</td>\n",
       "      <td>1301 NEELYS BEND RD</td>\n",
       "      <td>36.240668</td>\n",
       "      <td>-86.673126</td>\n",
       "      <td>FALL - NOT ON STAIRS</td>\n",
       "    </tr>\n",
       "    <tr>\n",
       "      <th>622</th>\n",
       "      <td>5/4/2020 12:21:00 AM</td>\n",
       "      <td>625 BENTON AV</td>\n",
       "      <td>36.131384</td>\n",
       "      <td>-86.770628</td>\n",
       "      <td>HIGH RISE NATURAL GAS ODOR</td>\n",
       "    </tr>\n",
       "    <tr>\n",
       "      <th>623</th>\n",
       "      <td>5/4/2020 12:21:32 AM</td>\n",
       "      <td>518 BRENTLAWN DR</td>\n",
       "      <td>36.064362</td>\n",
       "      <td>-86.761199</td>\n",
       "      <td>UNKNOWN STATUS</td>\n",
       "    </tr>\n",
       "    <tr>\n",
       "      <th>624</th>\n",
       "      <td>5/4/2020 12:22:47 AM</td>\n",
       "      <td>517 ALBANY DR</td>\n",
       "      <td>36.212754</td>\n",
       "      <td>-86.600431</td>\n",
       "      <td>ELECTRICAL HAZARD</td>\n",
       "    </tr>\n",
       "    <tr>\n",
       "      <th>625</th>\n",
       "      <td>5/4/2020 12:27:52 AM</td>\n",
       "      <td>639 LAFAYETTE ST</td>\n",
       "      <td>36.153769</td>\n",
       "      <td>-86.777520</td>\n",
       "      <td>SICK PERSON: NO PRIORITY SYMPTOMS</td>\n",
       "    </tr>\n",
       "    <tr>\n",
       "      <th>626</th>\n",
       "      <td>5/4/2020 12:29:50 AM</td>\n",
       "      <td>2011 HAYES ST</td>\n",
       "      <td>36.151839</td>\n",
       "      <td>-86.800791</td>\n",
       "      <td>PULL STATION ALARM COMMERCIAL   INDUSTRIAL BUILD</td>\n",
       "    </tr>\n",
       "  </tbody>\n",
       "</table>\n",
       "</div>"
      ],
      "text/plain": [
       "             IncidentDate             Location  Latitude1  Longitude1  \\\n",
       "617  5/3/2020 11:58:29 PM        2618 ESSEX PL  36.132719  -86.810791   \n",
       "618  5/3/2020 11:59:51 PM     304 ELMINGTON AV  36.133028  -86.822201   \n",
       "619  5/4/2020 12:05:58 AM       2011 HAYES ST   36.151839  -86.800791   \n",
       "620  5/4/2020 12:09:25 AM     5820 LABRADOR LN  36.031867  -86.711384   \n",
       "621  5/4/2020 12:12:37 AM  1301 NEELYS BEND RD  36.240668  -86.673126   \n",
       "622  5/4/2020 12:21:00 AM        625 BENTON AV  36.131384  -86.770628   \n",
       "623  5/4/2020 12:21:32 AM     518 BRENTLAWN DR  36.064362  -86.761199   \n",
       "624  5/4/2020 12:22:47 AM        517 ALBANY DR  36.212754  -86.600431   \n",
       "625  5/4/2020 12:27:52 AM     639 LAFAYETTE ST  36.153769  -86.777520   \n",
       "626  5/4/2020 12:29:50 AM       2011 HAYES ST   36.151839  -86.800791   \n",
       "\n",
       "                             IncidentTypeDescription1  \n",
       "617                                 ELECTRICAL HAZARD  \n",
       "618                                 ELECTRICAL HAZARD  \n",
       "619  PULL STATION ALARM COMMERCIAL   INDUSTRIAL BUILD  \n",
       "620                                 ELECTRICAL HAZARD  \n",
       "621                              FALL - NOT ON STAIRS  \n",
       "622                        HIGH RISE NATURAL GAS ODOR  \n",
       "623                                    UNKNOWN STATUS  \n",
       "624                                 ELECTRICAL HAZARD  \n",
       "625                 SICK PERSON: NO PRIORITY SYMPTOMS  \n",
       "626  PULL STATION ALARM COMMERCIAL   INDUSTRIAL BUILD  "
      ]
     },
     "execution_count": 64,
     "metadata": {},
     "output_type": "execute_result"
    }
   ],
   "source": [
    "dispatch_derecho_df.tail(10)"
   ]
  },
  {
   "cell_type": "code",
   "execution_count": 65,
   "metadata": {},
   "outputs": [
    {
     "data": {
      "text/plain": [
       "ELECTRICAL HAZARD                                370\n",
       "GENERAL ALARM COMMERCIAL   INDUSTRIAL BUILD       23\n",
       "MVA INJURIES:                                      8\n",
       "UNKNOWN STATUS:                                    6\n",
       "SMALL BUILDING INVESTIGATION                       6\n",
       "                                                ... \n",
       "NOT ALERT COPD                                     1\n",
       "OTHER PAIN                                         1\n",
       "POSSIBLY DANGEROUS HEMORRHAGE MEDICAL              1\n",
       "SEIZURE: EFFECTIVE BREATHING NOT VERIFIED >35      1\n",
       "TRAUMATIC INJURIES NOT DANGEROUS BODY AREA         1\n",
       "Name: IncidentTypeDescription1, Length: 122, dtype: int64"
      ]
     },
     "execution_count": 65,
     "metadata": {},
     "output_type": "execute_result"
    }
   ],
   "source": [
    "dispatch_derecho_df['IncidentTypeDescription1'].value_counts()"
   ]
  },
  {
   "cell_type": "code",
   "execution_count": 66,
   "metadata": {},
   "outputs": [
    {
     "data": {
      "text/plain": [
       "5/3/2020 6:35:17 PM     2\n",
       "5/3/2020 6:35:07 PM     2\n",
       "5/3/2020 6:35:25 PM     2\n",
       "5/3/2020 5:49:48 PM     2\n",
       "5/3/2020 9:29:25 PM     2\n",
       "                       ..\n",
       "5/3/2020 9:23:34 PM     1\n",
       "5/3/2020 6:26:59 PM     1\n",
       "5/3/2020 6:48:16 PM     1\n",
       "5/3/2020 6:03:16 PM     1\n",
       "5/3/2020 10:55:43 PM    1\n",
       "Name: IncidentDate, Length: 604, dtype: int64"
      ]
     },
     "execution_count": 66,
     "metadata": {},
     "output_type": "execute_result"
    }
   ],
   "source": [
    "dispatch_derecho_df['IncidentDate'].value_counts()"
   ]
  },
  {
   "cell_type": "code",
   "execution_count": 67,
   "metadata": {},
   "outputs": [
    {
     "data": {
      "text/html": [
       "<div>\n",
       "<style scoped>\n",
       "    .dataframe tbody tr th:only-of-type {\n",
       "        vertical-align: middle;\n",
       "    }\n",
       "\n",
       "    .dataframe tbody tr th {\n",
       "        vertical-align: top;\n",
       "    }\n",
       "\n",
       "    .dataframe thead th {\n",
       "        text-align: right;\n",
       "    }\n",
       "</style>\n",
       "<table border=\"1\" class=\"dataframe\">\n",
       "  <thead>\n",
       "    <tr style=\"text-align: right;\">\n",
       "      <th></th>\n",
       "      <th>IncidentDate</th>\n",
       "      <th>Location</th>\n",
       "      <th>Latitude1</th>\n",
       "      <th>Longitude1</th>\n",
       "      <th>IncidentTypeDescription1</th>\n",
       "    </tr>\n",
       "  </thead>\n",
       "  <tbody>\n",
       "    <tr>\n",
       "      <th>0</th>\n",
       "      <td>5/3/2020 4:31:07 PM</td>\n",
       "      <td>901 KENWICK CT W</td>\n",
       "      <td>36.046877</td>\n",
       "      <td>-86.962526</td>\n",
       "      <td>ELECTRICAL HAZARD</td>\n",
       "    </tr>\n",
       "    <tr>\n",
       "      <th>1</th>\n",
       "      <td>5/3/2020 4:32:18 PM</td>\n",
       "      <td>8036 ARBOR DR</td>\n",
       "      <td>36.082491</td>\n",
       "      <td>-86.940680</td>\n",
       "      <td>ELECTRICAL HAZARD</td>\n",
       "    </tr>\n",
       "    <tr>\n",
       "      <th>2</th>\n",
       "      <td>5/3/2020 4:32:23 PM</td>\n",
       "      <td>119 DUE WEST AV E</td>\n",
       "      <td>36.248029</td>\n",
       "      <td>-86.716875</td>\n",
       "      <td>NOT ALERT COPD</td>\n",
       "    </tr>\n",
       "    <tr>\n",
       "      <th>3</th>\n",
       "      <td>5/3/2020 4:33:04 PM</td>\n",
       "      <td>630 GALLATIN PKE S</td>\n",
       "      <td>36.256491</td>\n",
       "      <td>-86.714817</td>\n",
       "      <td>ABDOMINAL PAIN</td>\n",
       "    </tr>\n",
       "    <tr>\n",
       "      <th>4</th>\n",
       "      <td>5/3/2020 4:33:52 PM</td>\n",
       "      <td>615 W HILLWOOD DR</td>\n",
       "      <td>36.129690</td>\n",
       "      <td>-86.879834</td>\n",
       "      <td>ELECTRICAL HAZARD</td>\n",
       "    </tr>\n",
       "  </tbody>\n",
       "</table>\n",
       "</div>"
      ],
      "text/plain": [
       "          IncidentDate            Location  Latitude1  Longitude1  \\\n",
       "0  5/3/2020 4:31:07 PM    901 KENWICK CT W  36.046877  -86.962526   \n",
       "1  5/3/2020 4:32:18 PM       8036 ARBOR DR  36.082491  -86.940680   \n",
       "2  5/3/2020 4:32:23 PM   119 DUE WEST AV E  36.248029  -86.716875   \n",
       "3  5/3/2020 4:33:04 PM  630 GALLATIN PKE S  36.256491  -86.714817   \n",
       "4  5/3/2020 4:33:52 PM   615 W HILLWOOD DR  36.129690  -86.879834   \n",
       "\n",
       "  IncidentTypeDescription1  \n",
       "0        ELECTRICAL HAZARD  \n",
       "1        ELECTRICAL HAZARD  \n",
       "2           NOT ALERT COPD  \n",
       "3           ABDOMINAL PAIN  \n",
       "4        ELECTRICAL HAZARD  "
      ]
     },
     "execution_count": 67,
     "metadata": {},
     "output_type": "execute_result"
    }
   ],
   "source": [
    "dispatch_derecho_df.head()"
   ]
  },
  {
   "cell_type": "code",
   "execution_count": 68,
   "metadata": {},
   "outputs": [
    {
     "name": "stdout",
     "output_type": "stream",
     "text": [
      "<class 'pandas.core.frame.DataFrame'>\n",
      "RangeIndex: 627 entries, 0 to 626\n",
      "Data columns (total 5 columns):\n",
      " #   Column                    Non-Null Count  Dtype  \n",
      "---  ------                    --------------  -----  \n",
      " 0   IncidentDate              627 non-null    object \n",
      " 1   Location                  627 non-null    object \n",
      " 2   Latitude1                 627 non-null    float64\n",
      " 3   Longitude1                627 non-null    float64\n",
      " 4   IncidentTypeDescription1  627 non-null    object \n",
      "dtypes: float64(2), object(3)\n",
      "memory usage: 24.6+ KB\n"
     ]
    }
   ],
   "source": [
    "dispatch_derecho_df.info()"
   ]
  },
  {
   "cell_type": "code",
   "execution_count": 69,
   "metadata": {},
   "outputs": [
    {
     "name": "stdout",
     "output_type": "stream",
     "text": [
      "<class 'pandas.core.frame.DataFrame'>\n",
      "RangeIndex: 627 entries, 0 to 626\n",
      "Data columns (total 5 columns):\n",
      " #   Column                    Non-Null Count  Dtype  \n",
      "---  ------                    --------------  -----  \n",
      " 0   IncidentDate              627 non-null    object \n",
      " 1   Location                  627 non-null    object \n",
      " 2   Latitude1                 627 non-null    float64\n",
      " 3   Longitude1                627 non-null    float64\n",
      " 4   IncidentTypeDescription1  627 non-null    object \n",
      "dtypes: float64(2), object(3)\n",
      "memory usage: 24.6+ KB\n"
     ]
    }
   ],
   "source": [
    "dispatch_derecho_df.info()"
   ]
  },
  {
   "cell_type": "code",
   "execution_count": 70,
   "metadata": {},
   "outputs": [],
   "source": [
    "dispatch_derecho_df['time'] = dispatch_derecho_df['IncidentDate'].str.split(' ').str[1]"
   ]
  },
  {
   "cell_type": "code",
   "execution_count": 71,
   "metadata": {
    "scrolled": true
   },
   "outputs": [
    {
     "data": {
      "text/html": [
       "<div>\n",
       "<style scoped>\n",
       "    .dataframe tbody tr th:only-of-type {\n",
       "        vertical-align: middle;\n",
       "    }\n",
       "\n",
       "    .dataframe tbody tr th {\n",
       "        vertical-align: top;\n",
       "    }\n",
       "\n",
       "    .dataframe thead th {\n",
       "        text-align: right;\n",
       "    }\n",
       "</style>\n",
       "<table border=\"1\" class=\"dataframe\">\n",
       "  <thead>\n",
       "    <tr style=\"text-align: right;\">\n",
       "      <th></th>\n",
       "      <th>IncidentDate</th>\n",
       "      <th>Location</th>\n",
       "      <th>Latitude1</th>\n",
       "      <th>Longitude1</th>\n",
       "      <th>IncidentTypeDescription1</th>\n",
       "      <th>time</th>\n",
       "    </tr>\n",
       "  </thead>\n",
       "  <tbody>\n",
       "    <tr>\n",
       "      <th>0</th>\n",
       "      <td>5/3/2020 4:31:07 PM</td>\n",
       "      <td>901 KENWICK CT W</td>\n",
       "      <td>36.046877</td>\n",
       "      <td>-86.962526</td>\n",
       "      <td>ELECTRICAL HAZARD</td>\n",
       "      <td>4:31:07</td>\n",
       "    </tr>\n",
       "    <tr>\n",
       "      <th>1</th>\n",
       "      <td>5/3/2020 4:32:18 PM</td>\n",
       "      <td>8036 ARBOR DR</td>\n",
       "      <td>36.082491</td>\n",
       "      <td>-86.940680</td>\n",
       "      <td>ELECTRICAL HAZARD</td>\n",
       "      <td>4:32:18</td>\n",
       "    </tr>\n",
       "    <tr>\n",
       "      <th>2</th>\n",
       "      <td>5/3/2020 4:32:23 PM</td>\n",
       "      <td>119 DUE WEST AV E</td>\n",
       "      <td>36.248029</td>\n",
       "      <td>-86.716875</td>\n",
       "      <td>NOT ALERT COPD</td>\n",
       "      <td>4:32:23</td>\n",
       "    </tr>\n",
       "    <tr>\n",
       "      <th>3</th>\n",
       "      <td>5/3/2020 4:33:04 PM</td>\n",
       "      <td>630 GALLATIN PKE S</td>\n",
       "      <td>36.256491</td>\n",
       "      <td>-86.714817</td>\n",
       "      <td>ABDOMINAL PAIN</td>\n",
       "      <td>4:33:04</td>\n",
       "    </tr>\n",
       "    <tr>\n",
       "      <th>4</th>\n",
       "      <td>5/3/2020 4:33:52 PM</td>\n",
       "      <td>615 W HILLWOOD DR</td>\n",
       "      <td>36.129690</td>\n",
       "      <td>-86.879834</td>\n",
       "      <td>ELECTRICAL HAZARD</td>\n",
       "      <td>4:33:52</td>\n",
       "    </tr>\n",
       "    <tr>\n",
       "      <th>...</th>\n",
       "      <td>...</td>\n",
       "      <td>...</td>\n",
       "      <td>...</td>\n",
       "      <td>...</td>\n",
       "      <td>...</td>\n",
       "      <td>...</td>\n",
       "    </tr>\n",
       "    <tr>\n",
       "      <th>235</th>\n",
       "      <td>5/3/2020 6:30:16 PM</td>\n",
       "      <td>553 HARDING PL</td>\n",
       "      <td>36.077005</td>\n",
       "      <td>-86.739281</td>\n",
       "      <td>ELECTRICAL HAZARD</td>\n",
       "      <td>6:30:16</td>\n",
       "    </tr>\n",
       "    <tr>\n",
       "      <th>236</th>\n",
       "      <td>5/3/2020 6:30:25 PM</td>\n",
       "      <td>2215 29TH AV S</td>\n",
       "      <td>36.129429</td>\n",
       "      <td>-86.813941</td>\n",
       "      <td>SMALL OUTSIDE FIRE</td>\n",
       "      <td>6:30:25</td>\n",
       "    </tr>\n",
       "    <tr>\n",
       "      <th>237</th>\n",
       "      <td>5/3/2020 6:31:35 PM</td>\n",
       "      <td>4400 BELMONT PARK TER</td>\n",
       "      <td>36.099351</td>\n",
       "      <td>-86.803047</td>\n",
       "      <td>ELECTRICAL HAZARD</td>\n",
       "      <td>6:31:35</td>\n",
       "    </tr>\n",
       "    <tr>\n",
       "      <th>238</th>\n",
       "      <td>5/3/2020 6:32:03 PM</td>\n",
       "      <td>5041 DOVECOTE DR</td>\n",
       "      <td>36.069012</td>\n",
       "      <td>-86.766717</td>\n",
       "      <td>ELECTRICAL HAZARD</td>\n",
       "      <td>6:32:03</td>\n",
       "    </tr>\n",
       "    <tr>\n",
       "      <th>239</th>\n",
       "      <td>5/3/2020 6:32:07 PM</td>\n",
       "      <td>207 MISTY CAPE CV</td>\n",
       "      <td>36.161771</td>\n",
       "      <td>-86.591974</td>\n",
       "      <td>ELECTRICAL HAZARD</td>\n",
       "      <td>6:32:07</td>\n",
       "    </tr>\n",
       "  </tbody>\n",
       "</table>\n",
       "<p>240 rows × 6 columns</p>\n",
       "</div>"
      ],
      "text/plain": [
       "            IncidentDate               Location  Latitude1  Longitude1  \\\n",
       "0    5/3/2020 4:31:07 PM       901 KENWICK CT W  36.046877  -86.962526   \n",
       "1    5/3/2020 4:32:18 PM          8036 ARBOR DR  36.082491  -86.940680   \n",
       "2    5/3/2020 4:32:23 PM      119 DUE WEST AV E  36.248029  -86.716875   \n",
       "3    5/3/2020 4:33:04 PM     630 GALLATIN PKE S  36.256491  -86.714817   \n",
       "4    5/3/2020 4:33:52 PM      615 W HILLWOOD DR  36.129690  -86.879834   \n",
       "..                   ...                    ...        ...         ...   \n",
       "235  5/3/2020 6:30:16 PM         553 HARDING PL  36.077005  -86.739281   \n",
       "236  5/3/2020 6:30:25 PM         2215 29TH AV S  36.129429  -86.813941   \n",
       "237  5/3/2020 6:31:35 PM  4400 BELMONT PARK TER  36.099351  -86.803047   \n",
       "238  5/3/2020 6:32:03 PM       5041 DOVECOTE DR  36.069012  -86.766717   \n",
       "239  5/3/2020 6:32:07 PM      207 MISTY CAPE CV  36.161771  -86.591974   \n",
       "\n",
       "    IncidentTypeDescription1     time  \n",
       "0          ELECTRICAL HAZARD  4:31:07  \n",
       "1          ELECTRICAL HAZARD  4:32:18  \n",
       "2             NOT ALERT COPD  4:32:23  \n",
       "3             ABDOMINAL PAIN  4:33:04  \n",
       "4          ELECTRICAL HAZARD  4:33:52  \n",
       "..                       ...      ...  \n",
       "235        ELECTRICAL HAZARD  6:30:16  \n",
       "236       SMALL OUTSIDE FIRE  6:30:25  \n",
       "237        ELECTRICAL HAZARD  6:31:35  \n",
       "238        ELECTRICAL HAZARD  6:32:03  \n",
       "239        ELECTRICAL HAZARD  6:32:07  \n",
       "\n",
       "[240 rows x 6 columns]"
      ]
     },
     "execution_count": 71,
     "metadata": {},
     "output_type": "execute_result"
    }
   ],
   "source": [
    "dispatch_derecho_df.head(240)"
   ]
  },
  {
   "cell_type": "markdown",
   "metadata": {},
   "source": [
    "###### for x in range('4:40:00', '5:40:00'):\n",
    "    print(x)\n",
    "    "
   ]
  },
  {
   "cell_type": "code",
   "execution_count": 77,
   "metadata": {},
   "outputs": [],
   "source": [
    "#d_time = dispatch_derecho_df('time', start = '4:31:07', end = '6:30:16')"
   ]
  },
  {
   "cell_type": "code",
   "execution_count": 78,
   "metadata": {},
   "outputs": [
    {
     "data": {
      "text/html": [
       "<div>\n",
       "<style scoped>\n",
       "    .dataframe tbody tr th:only-of-type {\n",
       "        vertical-align: middle;\n",
       "    }\n",
       "\n",
       "    .dataframe tbody tr th {\n",
       "        vertical-align: top;\n",
       "    }\n",
       "\n",
       "    .dataframe thead th {\n",
       "        text-align: right;\n",
       "    }\n",
       "</style>\n",
       "<table border=\"1\" class=\"dataframe\">\n",
       "  <thead>\n",
       "    <tr style=\"text-align: right;\">\n",
       "      <th></th>\n",
       "      <th>IncidentDate</th>\n",
       "      <th>Location</th>\n",
       "      <th>Latitude1</th>\n",
       "      <th>Longitude1</th>\n",
       "      <th>IncidentTypeDescription1</th>\n",
       "      <th>time</th>\n",
       "    </tr>\n",
       "  </thead>\n",
       "  <tbody>\n",
       "    <tr>\n",
       "      <th>0</th>\n",
       "      <td>5/3/2020 4:31:07 PM</td>\n",
       "      <td>901 KENWICK CT W</td>\n",
       "      <td>36.046877</td>\n",
       "      <td>-86.962526</td>\n",
       "      <td>ELECTRICAL HAZARD</td>\n",
       "      <td>2020-11-12 04:31:07</td>\n",
       "    </tr>\n",
       "    <tr>\n",
       "      <th>1</th>\n",
       "      <td>5/3/2020 4:32:18 PM</td>\n",
       "      <td>8036 ARBOR DR</td>\n",
       "      <td>36.082491</td>\n",
       "      <td>-86.940680</td>\n",
       "      <td>ELECTRICAL HAZARD</td>\n",
       "      <td>2020-11-12 04:32:18</td>\n",
       "    </tr>\n",
       "    <tr>\n",
       "      <th>2</th>\n",
       "      <td>5/3/2020 4:32:23 PM</td>\n",
       "      <td>119 DUE WEST AV E</td>\n",
       "      <td>36.248029</td>\n",
       "      <td>-86.716875</td>\n",
       "      <td>NOT ALERT COPD</td>\n",
       "      <td>2020-11-12 04:32:23</td>\n",
       "    </tr>\n",
       "    <tr>\n",
       "      <th>3</th>\n",
       "      <td>5/3/2020 4:33:04 PM</td>\n",
       "      <td>630 GALLATIN PKE S</td>\n",
       "      <td>36.256491</td>\n",
       "      <td>-86.714817</td>\n",
       "      <td>ABDOMINAL PAIN</td>\n",
       "      <td>2020-11-12 04:33:04</td>\n",
       "    </tr>\n",
       "    <tr>\n",
       "      <th>4</th>\n",
       "      <td>5/3/2020 4:33:52 PM</td>\n",
       "      <td>615 W HILLWOOD DR</td>\n",
       "      <td>36.129690</td>\n",
       "      <td>-86.879834</td>\n",
       "      <td>ELECTRICAL HAZARD</td>\n",
       "      <td>2020-11-12 04:33:52</td>\n",
       "    </tr>\n",
       "  </tbody>\n",
       "</table>\n",
       "</div>"
      ],
      "text/plain": [
       "          IncidentDate            Location  Latitude1  Longitude1  \\\n",
       "0  5/3/2020 4:31:07 PM    901 KENWICK CT W  36.046877  -86.962526   \n",
       "1  5/3/2020 4:32:18 PM       8036 ARBOR DR  36.082491  -86.940680   \n",
       "2  5/3/2020 4:32:23 PM   119 DUE WEST AV E  36.248029  -86.716875   \n",
       "3  5/3/2020 4:33:04 PM  630 GALLATIN PKE S  36.256491  -86.714817   \n",
       "4  5/3/2020 4:33:52 PM   615 W HILLWOOD DR  36.129690  -86.879834   \n",
       "\n",
       "  IncidentTypeDescription1                time  \n",
       "0        ELECTRICAL HAZARD 2020-11-12 04:31:07  \n",
       "1        ELECTRICAL HAZARD 2020-11-12 04:32:18  \n",
       "2           NOT ALERT COPD 2020-11-12 04:32:23  \n",
       "3           ABDOMINAL PAIN 2020-11-12 04:33:04  \n",
       "4        ELECTRICAL HAZARD 2020-11-12 04:33:52  "
      ]
     },
     "execution_count": 78,
     "metadata": {},
     "output_type": "execute_result"
    }
   ],
   "source": [
    "dispatch_derecho_df.head()"
   ]
  },
  {
   "cell_type": "code",
   "execution_count": 79,
   "metadata": {},
   "outputs": [],
   "source": [
    "dispatch_derecho_df['time'] = pd.to_datetime(dispatch_derecho_df['time'])"
   ]
  },
  {
   "cell_type": "code",
   "execution_count": 86,
   "metadata": {},
   "outputs": [
    {
     "ename": "TypeError",
     "evalue": "'DataFrame' object is not callable",
     "output_type": "error",
     "traceback": [
      "\u001b[1;31m---------------------------------------------------------------------------\u001b[0m",
      "\u001b[1;31mTypeError\u001b[0m                                 Traceback (most recent call last)",
      "\u001b[1;32m<ipython-input-86-b23dd52afbd2>\u001b[0m in \u001b[0;36m<module>\u001b[1;34m\u001b[0m\n\u001b[1;32m----> 1\u001b[1;33m \u001b[0mdispatch_derecho_df\u001b[0m\u001b[1;33m[\u001b[0m\u001b[1;34m'time'\u001b[0m\u001b[1;33m]\u001b[0m \u001b[1;33m=\u001b[0m \u001b[0mdispatch_derecho_df\u001b[0m\u001b[1;33m(\u001b[0m\u001b[1;34m'4:31:00'\u001b[0m\u001b[1;33m,\u001b[0m \u001b[1;34m'6:30:00'\u001b[0m\u001b[1;33m,\u001b[0m \u001b[0minclude_start\u001b[0m\u001b[1;33m=\u001b[0m\u001b[1;32mTrue\u001b[0m\u001b[1;33m,\u001b[0m \u001b[0minclude_end\u001b[0m\u001b[1;33m=\u001b[0m\u001b[1;32mTrue\u001b[0m\u001b[1;33m,\u001b[0m \u001b[0maxis\u001b[0m\u001b[1;33m=\u001b[0m\u001b[1;32mNone\u001b[0m\u001b[1;33m)\u001b[0m\u001b[1;33m\u001b[0m\u001b[1;33m\u001b[0m\u001b[0m\n\u001b[0m",
      "\u001b[1;31mTypeError\u001b[0m: 'DataFrame' object is not callable"
     ]
    }
   ],
   "source": [
    "dispatch_derecho_df['time'] = dispatch_derecho_df('4:31:00', '6:30:00', include_start=True, include_end=True, axis=None)"
   ]
  },
  {
   "cell_type": "code",
   "execution_count": 81,
   "metadata": {},
   "outputs": [
    {
     "name": "stdout",
     "output_type": "stream",
     "text": [
      "<class 'pandas.core.frame.DataFrame'>\n",
      "RangeIndex: 627 entries, 0 to 626\n",
      "Data columns (total 6 columns):\n",
      " #   Column                    Non-Null Count  Dtype         \n",
      "---  ------                    --------------  -----         \n",
      " 0   IncidentDate              627 non-null    object        \n",
      " 1   Location                  627 non-null    object        \n",
      " 2   Latitude1                 627 non-null    float64       \n",
      " 3   Longitude1                627 non-null    float64       \n",
      " 4   IncidentTypeDescription1  627 non-null    object        \n",
      " 5   time                      627 non-null    datetime64[ns]\n",
      "dtypes: datetime64[ns](1), float64(2), object(3)\n",
      "memory usage: 29.5+ KB\n"
     ]
    }
   ],
   "source": [
    "dispatch_derecho_df.info()"
   ]
  },
  {
   "cell_type": "code",
   "execution_count": null,
   "metadata": {},
   "outputs": [],
   "source": []
  },
  {
   "cell_type": "code",
   "execution_count": 84,
   "metadata": {},
   "outputs": [],
   "source": [
    "derecho_time = dispatch_derecho_df.loc[dispatch_derecho_df['time'] == \"4:31:07 : 6:30:16\"]"
   ]
  },
  {
   "cell_type": "code",
   "execution_count": 85,
   "metadata": {},
   "outputs": [
    {
     "data": {
      "text/html": [
       "<div>\n",
       "<style scoped>\n",
       "    .dataframe tbody tr th:only-of-type {\n",
       "        vertical-align: middle;\n",
       "    }\n",
       "\n",
       "    .dataframe tbody tr th {\n",
       "        vertical-align: top;\n",
       "    }\n",
       "\n",
       "    .dataframe thead th {\n",
       "        text-align: right;\n",
       "    }\n",
       "</style>\n",
       "<table border=\"1\" class=\"dataframe\">\n",
       "  <thead>\n",
       "    <tr style=\"text-align: right;\">\n",
       "      <th></th>\n",
       "      <th>IncidentDate</th>\n",
       "      <th>Location</th>\n",
       "      <th>Latitude1</th>\n",
       "      <th>Longitude1</th>\n",
       "      <th>IncidentTypeDescription1</th>\n",
       "      <th>time</th>\n",
       "    </tr>\n",
       "  </thead>\n",
       "  <tbody>\n",
       "  </tbody>\n",
       "</table>\n",
       "</div>"
      ],
      "text/plain": [
       "Empty DataFrame\n",
       "Columns: [IncidentDate, Location, Latitude1, Longitude1, IncidentTypeDescription1, time]\n",
       "Index: []"
      ]
     },
     "execution_count": 85,
     "metadata": {},
     "output_type": "execute_result"
    }
   ],
   "source": [
    "derecho_time.head()"
   ]
  },
  {
   "cell_type": "code",
   "execution_count": null,
   "metadata": {},
   "outputs": [],
   "source": []
  },
  {
   "cell_type": "code",
   "execution_count": null,
   "metadata": {},
   "outputs": [],
   "source": []
  },
  {
   "cell_type": "code",
   "execution_count": null,
   "metadata": {},
   "outputs": [],
   "source": []
  },
  {
   "cell_type": "code",
   "execution_count": 33,
   "metadata": {},
   "outputs": [],
   "source": [
    "derecho_map = folium.Map(location = [36.1612, -86.7775], zoom_start = 12)\n",
    "\n",
    "#for ind, row in dispatch_derecho_df.iterrows():\n",
    "    #point = [row['Latitude1'], row['Longitude1']]\n",
    "    #popup = row['IncidentDate'] + ':' + row['IncidentTypeDescription1']\n",
    "    #folium.Marker(point, popup = popup, icon=folium.Icon(color='wind')).add_to(derecho_map)\n"
   ]
  },
  {
   "cell_type": "code",
   "execution_count": null,
   "metadata": {},
   "outputs": [],
   "source": []
  },
  {
   "cell_type": "code",
   "execution_count": null,
   "metadata": {},
   "outputs": [],
   "source": []
  },
  {
   "cell_type": "code",
   "execution_count": null,
   "metadata": {},
   "outputs": [],
   "source": []
  },
  {
   "cell_type": "code",
   "execution_count": null,
   "metadata": {},
   "outputs": [],
   "source": []
  },
  {
   "cell_type": "code",
   "execution_count": null,
   "metadata": {},
   "outputs": [],
   "source": []
  },
  {
   "cell_type": "code",
   "execution_count": null,
   "metadata": {},
   "outputs": [],
   "source": []
  },
  {
   "cell_type": "code",
   "execution_count": null,
   "metadata": {},
   "outputs": [],
   "source": []
  },
  {
   "cell_type": "code",
   "execution_count": null,
   "metadata": {},
   "outputs": [],
   "source": []
  },
  {
   "cell_type": "code",
   "execution_count": null,
   "metadata": {},
   "outputs": [],
   "source": []
  },
  {
   "cell_type": "markdown",
   "metadata": {},
   "source": [
    "# Start of Tornado"
   ]
  },
  {
   "cell_type": "code",
   "execution_count": null,
   "metadata": {},
   "outputs": [],
   "source": [
    "dispatch_tornado_df = pd.read_csv('data/Computer_Aided_Tornado_Incidents_030320.csv', skiprows = 3)"
   ]
  },
  {
   "cell_type": "code",
   "execution_count": null,
   "metadata": {},
   "outputs": [],
   "source": [
    "dispatch_tornado_df.shape"
   ]
  },
  {
   "cell_type": "code",
   "execution_count": null,
   "metadata": {},
   "outputs": [],
   "source": [
    "dispatch_tornado_df.head(10)"
   ]
  },
  {
   "cell_type": "code",
   "execution_count": null,
   "metadata": {},
   "outputs": [],
   "source": [
    "dispatch_tornado_df.tail(10)"
   ]
  },
  {
   "cell_type": "code",
   "execution_count": null,
   "metadata": {},
   "outputs": [],
   "source": [
    "dispatch_tornado_df['IncidentTypeDescription1'].value_counts()"
   ]
  },
  {
   "cell_type": "code",
   "execution_count": null,
   "metadata": {},
   "outputs": [],
   "source": [
    "#draw our zip code area: 37207\n",
    "nash_map = folium.Map(location = (36.16784, -86.77816), zoom_start = 12)\n",
    "\n",
    "\n",
    "#iterate through stops_in_37207 to create locations and markers \n",
    "#for each bus stop\n",
    "#remember for Folium locations, lat is listed first!!\n",
    "\n",
    "for row_index, row_values in rain_accidents_2019_har_nash.iterrows():\n",
    "    loc = [row_values['lat'], row_values['long']]\n",
    "    pop = str('Precinct: ') + str(row_values['precincts'] + \" \" + \" \" + \" \" + str('Injuries: ') + str(row_values['number_of_injuries']))\n",
    "    icon=folium.Icon(color=color('red')), icon=\"tornado\", prefix='fa')\n",
    "    \n",
    "    marker = folium.Marker(\n",
    "        location = loc, \n",
    "        popup = pop, icon = icon) \n",
    "    marker.add_to(nash_map)\n",
    "nash_map.save('../maps/nash_map_accidents.html')\n",
    "#display our map\n",
    "nash_map"
   ]
  },
  {
   "cell_type": "code",
   "execution_count": null,
   "metadata": {},
   "outputs": [],
   "source": []
  }
 ],
 "metadata": {
  "kernelspec": {
   "display_name": "Python 3",
   "language": "python",
   "name": "python3"
  },
  "language_info": {
   "codemirror_mode": {
    "name": "ipython",
    "version": 3
   },
   "file_extension": ".py",
   "mimetype": "text/x-python",
   "name": "python",
   "nbconvert_exporter": "python",
   "pygments_lexer": "ipython3",
   "version": "3.8.5"
  }
 },
 "nbformat": 4,
 "nbformat_minor": 4
}
