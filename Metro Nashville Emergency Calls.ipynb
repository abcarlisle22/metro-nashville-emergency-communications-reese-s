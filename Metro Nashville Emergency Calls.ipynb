{
 "cells": [
  {
   "cell_type": "code",
   "execution_count": 1,
   "metadata": {},
   "outputs": [],
   "source": [
    "from shapely.geometry import Point\n",
    "import pandas as pd\n",
    "import geopandas as gpd\n",
    "import matplotlib.pyplot as plt\n",
    "import folium\n",
    "from folium.plugins import MarkerCluster\n",
    "from folium.plugins import FastMarkerCluster"
   ]
  },
  {
   "cell_type": "code",
   "execution_count": 2,
   "metadata": {},
   "outputs": [],
   "source": [
    "%matplotlib inline"
   ]
  },
  {
   "cell_type": "markdown",
   "metadata": {},
   "source": [
    "### EDA of the Derecho 911 Calls"
   ]
  },
  {
   "cell_type": "code",
   "execution_count": 3,
   "metadata": {},
   "outputs": [
    {
     "data": {
      "text/html": [
       "<div>\n",
       "<style scoped>\n",
       "    .dataframe tbody tr th:only-of-type {\n",
       "        vertical-align: middle;\n",
       "    }\n",
       "\n",
       "    .dataframe tbody tr th {\n",
       "        vertical-align: top;\n",
       "    }\n",
       "\n",
       "    .dataframe thead th {\n",
       "        text-align: right;\n",
       "    }\n",
       "</style>\n",
       "<table border=\"1\" class=\"dataframe\">\n",
       "  <thead>\n",
       "    <tr style=\"text-align: right;\">\n",
       "      <th></th>\n",
       "      <th>Seizure DateTime</th>\n",
       "      <th>CallTypeId</th>\n",
       "      <th>ALI Latitude</th>\n",
       "      <th>ALI Longitude</th>\n",
       "      <th>Cell Tower Address</th>\n",
       "    </tr>\n",
       "  </thead>\n",
       "  <tbody>\n",
       "    <tr>\n",
       "      <th>0</th>\n",
       "      <td>5/3/2020 16:30</td>\n",
       "      <td>911 Calls</td>\n",
       "      <td>36.247802</td>\n",
       "      <td>-86.716847</td>\n",
       "      <td>WIRELESS CALLER</td>\n",
       "    </tr>\n",
       "    <tr>\n",
       "      <th>1</th>\n",
       "      <td>5/3/2020 16:30</td>\n",
       "      <td>911 Calls</td>\n",
       "      <td>36.143108</td>\n",
       "      <td>-86.800621</td>\n",
       "      <td>1161 21ST AV S - SE</td>\n",
       "    </tr>\n",
       "    <tr>\n",
       "      <th>2</th>\n",
       "      <td>5/3/2020 16:30</td>\n",
       "      <td>911 Calls</td>\n",
       "      <td>36.100516</td>\n",
       "      <td>-87.056329</td>\n",
       "      <td>8013 C MCCRORY LN - N</td>\n",
       "    </tr>\n",
       "    <tr>\n",
       "      <th>3</th>\n",
       "      <td>5/3/2020 16:30</td>\n",
       "      <td>911 Calls</td>\n",
       "      <td>36.130021</td>\n",
       "      <td>-86.927819</td>\n",
       "      <td>5758 RIVER RD - SW</td>\n",
       "    </tr>\n",
       "    <tr>\n",
       "      <th>4</th>\n",
       "      <td>5/3/2020 16:31</td>\n",
       "      <td>911 Calls</td>\n",
       "      <td>36.142380</td>\n",
       "      <td>-86.881882</td>\n",
       "      <td>3744B ANNEX AVE - SE</td>\n",
       "    </tr>\n",
       "  </tbody>\n",
       "</table>\n",
       "</div>"
      ],
      "text/plain": [
       "  Seizure DateTime CallTypeId  ALI Latitude  ALI Longitude  \\\n",
       "0   5/3/2020 16:30  911 Calls     36.247802     -86.716847   \n",
       "1   5/3/2020 16:30  911 Calls     36.143108     -86.800621   \n",
       "2   5/3/2020 16:30  911 Calls     36.100516     -87.056329   \n",
       "3   5/3/2020 16:30  911 Calls     36.130021     -86.927819   \n",
       "4   5/3/2020 16:31  911 Calls     36.142380     -86.881882   \n",
       "\n",
       "      Cell Tower Address  \n",
       "0        WIRELESS CALLER  \n",
       "1    1161 21ST AV S - SE  \n",
       "2  8013 C MCCRORY LN - N  \n",
       "3     5758 RIVER RD - SW  \n",
       "4   3744B ANNEX AVE - SE  "
      ]
     },
     "execution_count": 3,
     "metadata": {},
     "output_type": "execute_result"
    }
   ],
   "source": [
    "phone_calls_derecho_911 = pd.read_csv('data/911_Phone_Calls_Derecho.csv')\n",
    "phone_calls_derecho_911.head()"
   ]
  },
  {
   "cell_type": "code",
   "execution_count": 4,
   "metadata": {},
   "outputs": [
    {
     "data": {
      "text/html": [
       "<div>\n",
       "<style scoped>\n",
       "    .dataframe tbody tr th:only-of-type {\n",
       "        vertical-align: middle;\n",
       "    }\n",
       "\n",
       "    .dataframe tbody tr th {\n",
       "        vertical-align: top;\n",
       "    }\n",
       "\n",
       "    .dataframe thead th {\n",
       "        text-align: right;\n",
       "    }\n",
       "</style>\n",
       "<table border=\"1\" class=\"dataframe\">\n",
       "  <thead>\n",
       "    <tr style=\"text-align: right;\">\n",
       "      <th></th>\n",
       "      <th>Seizure DateTime</th>\n",
       "      <th>CallTypeId</th>\n",
       "      <th>ALI Latitude</th>\n",
       "      <th>ALI Longitude</th>\n",
       "      <th>Cell Tower Address</th>\n",
       "    </tr>\n",
       "  </thead>\n",
       "  <tbody>\n",
       "    <tr>\n",
       "      <th>1544</th>\n",
       "      <td>5/4/2020 0:18</td>\n",
       "      <td>911 Calls</td>\n",
       "      <td>36.131694</td>\n",
       "      <td>-86.770535</td>\n",
       "      <td>1823-C 12TH AV - SECTOR SE S</td>\n",
       "    </tr>\n",
       "    <tr>\n",
       "      <th>1545</th>\n",
       "      <td>5/4/2020 0:22</td>\n",
       "      <td>911 Calls</td>\n",
       "      <td>36.042237</td>\n",
       "      <td>-86.743455</td>\n",
       "      <td>5244-C EDMONSON PIKE - SECTOR SE</td>\n",
       "    </tr>\n",
       "    <tr>\n",
       "      <th>1546</th>\n",
       "      <td>5/4/2020 0:25</td>\n",
       "      <td>911 Calls</td>\n",
       "      <td>36.077664</td>\n",
       "      <td>-86.655607</td>\n",
       "      <td>2747-B MURFREESBORO PKE - SECTOR NW</td>\n",
       "    </tr>\n",
       "    <tr>\n",
       "      <th>1547</th>\n",
       "      <td>5/4/2020 0:29</td>\n",
       "      <td>911 Calls</td>\n",
       "      <td>36.024706</td>\n",
       "      <td>-86.743562</td>\n",
       "      <td>302 SUMMIT VIEW DR - E</td>\n",
       "    </tr>\n",
       "    <tr>\n",
       "      <th>1548</th>\n",
       "      <td>5/4/2020 0:29</td>\n",
       "      <td>911 Calls</td>\n",
       "      <td>NaN</td>\n",
       "      <td>NaN</td>\n",
       "      <td>2014 QUAIL HOLLOW CIR</td>\n",
       "    </tr>\n",
       "  </tbody>\n",
       "</table>\n",
       "</div>"
      ],
      "text/plain": [
       "     Seizure DateTime CallTypeId  ALI Latitude  ALI Longitude  \\\n",
       "1544    5/4/2020 0:18  911 Calls     36.131694     -86.770535   \n",
       "1545    5/4/2020 0:22  911 Calls     36.042237     -86.743455   \n",
       "1546    5/4/2020 0:25  911 Calls     36.077664     -86.655607   \n",
       "1547    5/4/2020 0:29  911 Calls     36.024706     -86.743562   \n",
       "1548    5/4/2020 0:29  911 Calls           NaN            NaN   \n",
       "\n",
       "                       Cell Tower Address  \n",
       "1544         1823-C 12TH AV - SECTOR SE S  \n",
       "1545     5244-C EDMONSON PIKE - SECTOR SE  \n",
       "1546  2747-B MURFREESBORO PKE - SECTOR NW  \n",
       "1547               302 SUMMIT VIEW DR - E  \n",
       "1548                2014 QUAIL HOLLOW CIR  "
      ]
     },
     "execution_count": 4,
     "metadata": {},
     "output_type": "execute_result"
    }
   ],
   "source": [
    "phone_calls_derecho_911.tail()"
   ]
  },
  {
   "cell_type": "code",
   "execution_count": 5,
   "metadata": {},
   "outputs": [
    {
     "data": {
      "text/plain": [
       "(1549, 5)"
      ]
     },
     "execution_count": 5,
     "metadata": {},
     "output_type": "execute_result"
    }
   ],
   "source": [
    "phone_calls_derecho_911.shape"
   ]
  },
  {
   "cell_type": "code",
   "execution_count": 6,
   "metadata": {},
   "outputs": [],
   "source": [
    "phone_calls_derecho_911 = phone_calls_derecho_911.dropna()"
   ]
  },
  {
   "cell_type": "code",
   "execution_count": 7,
   "metadata": {},
   "outputs": [
    {
     "data": {
      "text/plain": [
       "(1483, 5)"
      ]
     },
     "execution_count": 7,
     "metadata": {},
     "output_type": "execute_result"
    }
   ],
   "source": [
    "phone_calls_derecho_911.shape"
   ]
  },
  {
   "cell_type": "code",
   "execution_count": 8,
   "metadata": {},
   "outputs": [
    {
     "data": {
      "text/plain": [
       "<bound method DataFrame.info of      Seizure DateTime CallTypeId  ALI Latitude  ALI Longitude  \\\n",
       "0      5/3/2020 16:30  911 Calls     36.247802     -86.716847   \n",
       "1      5/3/2020 16:30  911 Calls     36.143108     -86.800621   \n",
       "2      5/3/2020 16:30  911 Calls     36.100516     -87.056329   \n",
       "3      5/3/2020 16:30  911 Calls     36.130021     -86.927819   \n",
       "4      5/3/2020 16:31  911 Calls     36.142380     -86.881882   \n",
       "...               ...        ...           ...            ...   \n",
       "1543    5/4/2020 0:16  911 Calls     36.067911     -86.622970   \n",
       "1544    5/4/2020 0:18  911 Calls     36.131694     -86.770535   \n",
       "1545    5/4/2020 0:22  911 Calls     36.042237     -86.743455   \n",
       "1546    5/4/2020 0:25  911 Calls     36.077664     -86.655607   \n",
       "1547    5/4/2020 0:29  911 Calls     36.024706     -86.743562   \n",
       "\n",
       "                       Cell Tower Address  \n",
       "0                         WIRELESS CALLER  \n",
       "1                     1161 21ST AV S - SE  \n",
       "2                   8013 C MCCRORY LN - N  \n",
       "3                      5758 RIVER RD - SW  \n",
       "4                    3744B ANNEX AVE - SE  \n",
       "...                                   ...  \n",
       "1543                      WIRELESS CALLER  \n",
       "1544         1823-C 12TH AV - SECTOR SE S  \n",
       "1545     5244-C EDMONSON PIKE - SECTOR SE  \n",
       "1546  2747-B MURFREESBORO PKE - SECTOR NW  \n",
       "1547               302 SUMMIT VIEW DR - E  \n",
       "\n",
       "[1483 rows x 5 columns]>"
      ]
     },
     "execution_count": 8,
     "metadata": {},
     "output_type": "execute_result"
    }
   ],
   "source": [
    "phone_calls_derecho_911.info"
   ]
  },
  {
   "cell_type": "code",
   "execution_count": 9,
   "metadata": {},
   "outputs": [
    {
     "data": {
      "text/plain": [
       "Seizure DateTime  CallTypeId  ALI Latitude  ALI Longitude  Cell Tower Address                \n",
       "5/3/2020 19:53    911 Calls   36.238640     -86.747276     3526 SLATE DR - SW Sector             2\n",
       "5/3/2020 17:11    911 Calls   36.125708     -86.847374     4400 HARDING PIKE - E                 2\n",
       "5/3/2020 20:37    911 Calls   36.154568     -86.764717     18 ACADEMY PL - SE Sector             2\n",
       "5/3/2020 23:48    911 Calls   36.251976     -86.716034     118 EMMITT AV                         2\n",
       "5/3/2020 18:22    911 Calls   36.148411     -86.823708     3201C ELKINS AVE - SW                 1\n",
       "                                                                                                ..\n",
       "5/3/2020 20:00    911 Calls   36.049168     -86.690798     WIRELESS CALLER                       1\n",
       "                              36.151339     -86.872737     WIRELESS CALLER                       1\n",
       "5/3/2020 20:01    911 Calls   36.067387     -86.631485     2747 C MURFREESBORO PKE - E Sector    1\n",
       "                              36.069231     -86.766350     4813 TROUSDALE DR - W                 1\n",
       "5/3/2020 16:30    911 Calls   36.100516     -87.056329     8013 C MCCRORY LN - N                 1\n",
       "Length: 1479, dtype: int64"
      ]
     },
     "execution_count": 9,
     "metadata": {},
     "output_type": "execute_result"
    }
   ],
   "source": [
    "phone_calls_derecho_911.value_counts()"
   ]
  },
  {
   "cell_type": "code",
   "execution_count": 10,
   "metadata": {},
   "outputs": [
    {
     "data": {
      "text/html": [
       "<div>\n",
       "<style scoped>\n",
       "    .dataframe tbody tr th:only-of-type {\n",
       "        vertical-align: middle;\n",
       "    }\n",
       "\n",
       "    .dataframe tbody tr th {\n",
       "        vertical-align: top;\n",
       "    }\n",
       "\n",
       "    .dataframe thead th {\n",
       "        text-align: right;\n",
       "    }\n",
       "</style>\n",
       "<table border=\"1\" class=\"dataframe\">\n",
       "  <thead>\n",
       "    <tr style=\"text-align: right;\">\n",
       "      <th></th>\n",
       "      <th>Seizure DateTime</th>\n",
       "      <th>CallTypeId</th>\n",
       "      <th>ALI Latitude</th>\n",
       "      <th>ALI Longitude</th>\n",
       "      <th>Cell Tower Address</th>\n",
       "    </tr>\n",
       "  </thead>\n",
       "  <tbody>\n",
       "    <tr>\n",
       "      <th>0</th>\n",
       "      <td>3/3/2020 0:34</td>\n",
       "      <td>911 Calls</td>\n",
       "      <td>36.072708</td>\n",
       "      <td>-86.665779</td>\n",
       "      <td>620 Richards RD - N Sector</td>\n",
       "    </tr>\n",
       "    <tr>\n",
       "      <th>1</th>\n",
       "      <td>3/3/2020 0:36</td>\n",
       "      <td>911 Calls</td>\n",
       "      <td>36.159634</td>\n",
       "      <td>-86.841904</td>\n",
       "      <td>4507D KENTUCKY AV - SE</td>\n",
       "    </tr>\n",
       "    <tr>\n",
       "      <th>2</th>\n",
       "      <td>3/3/2020 0:36</td>\n",
       "      <td>911 Calls</td>\n",
       "      <td>36.264153</td>\n",
       "      <td>-86.708862</td>\n",
       "      <td>329 THELMA ST - S Sector</td>\n",
       "    </tr>\n",
       "    <tr>\n",
       "      <th>3</th>\n",
       "      <td>3/3/2020 0:36</td>\n",
       "      <td>911 Calls</td>\n",
       "      <td>NaN</td>\n",
       "      <td>NaN</td>\n",
       "      <td>526 FOUNDRY DR</td>\n",
       "    </tr>\n",
       "    <tr>\n",
       "      <th>4</th>\n",
       "      <td>3/3/2020 0:36</td>\n",
       "      <td>911 Calls</td>\n",
       "      <td>36.233467</td>\n",
       "      <td>-86.721077</td>\n",
       "      <td>5007B RUSKIN AVE - N</td>\n",
       "    </tr>\n",
       "  </tbody>\n",
       "</table>\n",
       "</div>"
      ],
      "text/plain": [
       "  Seizure DateTime CallTypeId  ALI Latitude  ALI Longitude  \\\n",
       "0    3/3/2020 0:34  911 Calls     36.072708     -86.665779   \n",
       "1    3/3/2020 0:36  911 Calls     36.159634     -86.841904   \n",
       "2    3/3/2020 0:36  911 Calls     36.264153     -86.708862   \n",
       "3    3/3/2020 0:36  911 Calls           NaN            NaN   \n",
       "4    3/3/2020 0:36  911 Calls     36.233467     -86.721077   \n",
       "\n",
       "           Cell Tower Address  \n",
       "0  620 Richards RD - N Sector  \n",
       "1      4507D KENTUCKY AV - SE  \n",
       "2    329 THELMA ST - S Sector  \n",
       "3              526 FOUNDRY DR  \n",
       "4        5007B RUSKIN AVE - N  "
      ]
     },
     "execution_count": 10,
     "metadata": {},
     "output_type": "execute_result"
    }
   ],
   "source": [
    "phone_calls_tornado_911 = pd.read_csv('data/911_Phone_Calls_tornado.csv')\n",
    "phone_calls_tornado_911.head()"
   ]
  },
  {
   "cell_type": "code",
   "execution_count": 11,
   "metadata": {},
   "outputs": [
    {
     "data": {
      "text/plain": [
       "(475, 5)"
      ]
     },
     "execution_count": 11,
     "metadata": {},
     "output_type": "execute_result"
    }
   ],
   "source": [
    "phone_calls_tornado_911.shape"
   ]
  },
  {
   "cell_type": "code",
   "execution_count": 12,
   "metadata": {},
   "outputs": [],
   "source": [
    "phone_calls_tornado_911 = phone_calls_tornado_911.dropna()"
   ]
  },
  {
   "cell_type": "code",
   "execution_count": 13,
   "metadata": {},
   "outputs": [
    {
     "data": {
      "text/plain": [
       "(450, 5)"
      ]
     },
     "execution_count": 13,
     "metadata": {},
     "output_type": "execute_result"
    }
   ],
   "source": [
    "phone_calls_tornado_911.shape"
   ]
  },
  {
   "cell_type": "code",
   "execution_count": 14,
   "metadata": {},
   "outputs": [
    {
     "data": {
      "text/plain": [
       "Seizure DateTime  CallTypeId  ALI Latitude  ALI Longitude  Cell Tower Address                 \n",
       "3/3/2020 0:42     911 Calls   36.167431     -86.796860     907 12TH AV N - N                      2\n",
       "3/3/2020 4:58     911 Calls   36.276566     -86.799417     4884 LICKTON PIKE - SE                 1\n",
       "3/3/2020 1:15     911 Calls   36.537846     -85.862511     8101 HEADY RIDGE ROAD - SW SECTOR      1\n",
       "3/3/2020 1:16     911 Calls   36.173902     -86.738412     254 RIVERSIDE DR - W                   1\n",
       "                              36.175522     -86.754463     2025B METRO CENTER BLVD. - E SECTOR    1\n",
       "                                                                                                 ..\n",
       "3/3/2020 2:08     911 Calls   36.177860     -86.796951     179 8TH AVE N - NW SECTOR              1\n",
       "3/3/2020 2:09     911 Calls   36.169888     -86.681358     162 MCGAVOCK PKE - N                   1\n",
       "                              36.178751     -86.685798     1825A LEBANON PIKE - N                 1\n",
       "                              36.193665     -86.729424     2004 CAHAL AVE - SE Sector             1\n",
       "3/3/2020 0:34     911 Calls   36.072708     -86.665779     620 Richards RD - N Sector             1\n",
       "Length: 449, dtype: int64"
      ]
     },
     "execution_count": 14,
     "metadata": {},
     "output_type": "execute_result"
    }
   ],
   "source": [
    "phone_calls_tornado_911.value_counts()"
   ]
  },
  {
   "cell_type": "code",
   "execution_count": 16,
   "metadata": {},
   "outputs": [
    {
     "data": {
      "text/html": [
       "<div>\n",
       "<style scoped>\n",
       "    .dataframe tbody tr th:only-of-type {\n",
       "        vertical-align: middle;\n",
       "    }\n",
       "\n",
       "    .dataframe tbody tr th {\n",
       "        vertical-align: top;\n",
       "    }\n",
       "\n",
       "    .dataframe thead th {\n",
       "        text-align: right;\n",
       "    }\n",
       "</style>\n",
       "<table border=\"1\" class=\"dataframe\">\n",
       "  <thead>\n",
       "    <tr style=\"text-align: right;\">\n",
       "      <th></th>\n",
       "      <th>IncidentDate</th>\n",
       "      <th>Location</th>\n",
       "      <th>Latitude1</th>\n",
       "      <th>Longitude1</th>\n",
       "      <th>IncidentTypeDescription1</th>\n",
       "    </tr>\n",
       "  </thead>\n",
       "  <tbody>\n",
       "    <tr>\n",
       "      <th>0</th>\n",
       "      <td>5/3/2020 4:31:07 PM</td>\n",
       "      <td>901 KENWICK CT W</td>\n",
       "      <td>36.046877</td>\n",
       "      <td>-86.962526</td>\n",
       "      <td>ELECTRICAL HAZARD</td>\n",
       "    </tr>\n",
       "    <tr>\n",
       "      <th>1</th>\n",
       "      <td>5/3/2020 4:32:18 PM</td>\n",
       "      <td>8036 ARBOR DR</td>\n",
       "      <td>36.082491</td>\n",
       "      <td>-86.940680</td>\n",
       "      <td>ELECTRICAL HAZARD</td>\n",
       "    </tr>\n",
       "    <tr>\n",
       "      <th>2</th>\n",
       "      <td>5/3/2020 4:32:23 PM</td>\n",
       "      <td>119 DUE WEST AV E</td>\n",
       "      <td>36.248029</td>\n",
       "      <td>-86.716875</td>\n",
       "      <td>NOT ALERT COPD</td>\n",
       "    </tr>\n",
       "    <tr>\n",
       "      <th>3</th>\n",
       "      <td>5/3/2020 4:33:04 PM</td>\n",
       "      <td>630 GALLATIN PKE S</td>\n",
       "      <td>36.256491</td>\n",
       "      <td>-86.714817</td>\n",
       "      <td>ABDOMINAL PAIN</td>\n",
       "    </tr>\n",
       "    <tr>\n",
       "      <th>4</th>\n",
       "      <td>5/3/2020 4:33:52 PM</td>\n",
       "      <td>615 W HILLWOOD DR</td>\n",
       "      <td>36.129690</td>\n",
       "      <td>-86.879834</td>\n",
       "      <td>ELECTRICAL HAZARD</td>\n",
       "    </tr>\n",
       "  </tbody>\n",
       "</table>\n",
       "</div>"
      ],
      "text/plain": [
       "          IncidentDate            Location  Latitude1  Longitude1  \\\n",
       "0  5/3/2020 4:31:07 PM    901 KENWICK CT W  36.046877  -86.962526   \n",
       "1  5/3/2020 4:32:18 PM       8036 ARBOR DR  36.082491  -86.940680   \n",
       "2  5/3/2020 4:32:23 PM   119 DUE WEST AV E  36.248029  -86.716875   \n",
       "3  5/3/2020 4:33:04 PM  630 GALLATIN PKE S  36.256491  -86.714817   \n",
       "4  5/3/2020 4:33:52 PM   615 W HILLWOOD DR  36.129690  -86.879834   \n",
       "\n",
       "  IncidentTypeDescription1  \n",
       "0        ELECTRICAL HAZARD  \n",
       "1        ELECTRICAL HAZARD  \n",
       "2           NOT ALERT COPD  \n",
       "3           ABDOMINAL PAIN  \n",
       "4        ELECTRICAL HAZARD  "
      ]
     },
     "execution_count": 16,
     "metadata": {},
     "output_type": "execute_result"
    }
   ],
   "source": [
    "cad_data_derecho = pd.read_csv('data/CAD_Data_Derecho_Incidents.csv', skiprows = 3)\n",
    "cad_data_derecho.head()"
   ]
  },
  {
   "cell_type": "code",
   "execution_count": 17,
   "metadata": {},
   "outputs": [
    {
     "data": {
      "text/plain": [
       "(627, 5)"
      ]
     },
     "execution_count": 17,
     "metadata": {},
     "output_type": "execute_result"
    }
   ],
   "source": [
    "cad_data_derecho.shape"
   ]
  },
  {
   "cell_type": "code",
   "execution_count": 18,
   "metadata": {},
   "outputs": [
    {
     "data": {
      "text/html": [
       "<div>\n",
       "<style scoped>\n",
       "    .dataframe tbody tr th:only-of-type {\n",
       "        vertical-align: middle;\n",
       "    }\n",
       "\n",
       "    .dataframe tbody tr th {\n",
       "        vertical-align: top;\n",
       "    }\n",
       "\n",
       "    .dataframe thead th {\n",
       "        text-align: right;\n",
       "    }\n",
       "</style>\n",
       "<table border=\"1\" class=\"dataframe\">\n",
       "  <thead>\n",
       "    <tr style=\"text-align: right;\">\n",
       "      <th></th>\n",
       "      <th>IncidentDate</th>\n",
       "      <th>Location</th>\n",
       "      <th>Latitude1</th>\n",
       "      <th>Longitude1</th>\n",
       "      <th>IncidentTypeDescription1</th>\n",
       "    </tr>\n",
       "  </thead>\n",
       "  <tbody>\n",
       "    <tr>\n",
       "      <th>0</th>\n",
       "      <td>5/3/2020 4:31:07 PM</td>\n",
       "      <td>901 KENWICK CT W</td>\n",
       "      <td>36.046877</td>\n",
       "      <td>-86.962526</td>\n",
       "      <td>ELECTRICAL HAZARD</td>\n",
       "    </tr>\n",
       "    <tr>\n",
       "      <th>1</th>\n",
       "      <td>5/3/2020 4:32:18 PM</td>\n",
       "      <td>8036 ARBOR DR</td>\n",
       "      <td>36.082491</td>\n",
       "      <td>-86.940680</td>\n",
       "      <td>ELECTRICAL HAZARD</td>\n",
       "    </tr>\n",
       "    <tr>\n",
       "      <th>2</th>\n",
       "      <td>5/3/2020 4:32:23 PM</td>\n",
       "      <td>119 DUE WEST AV E</td>\n",
       "      <td>36.248029</td>\n",
       "      <td>-86.716875</td>\n",
       "      <td>NOT ALERT COPD</td>\n",
       "    </tr>\n",
       "    <tr>\n",
       "      <th>3</th>\n",
       "      <td>5/3/2020 4:33:04 PM</td>\n",
       "      <td>630 GALLATIN PKE S</td>\n",
       "      <td>36.256491</td>\n",
       "      <td>-86.714817</td>\n",
       "      <td>ABDOMINAL PAIN</td>\n",
       "    </tr>\n",
       "    <tr>\n",
       "      <th>4</th>\n",
       "      <td>5/3/2020 4:33:52 PM</td>\n",
       "      <td>615 W HILLWOOD DR</td>\n",
       "      <td>36.129690</td>\n",
       "      <td>-86.879834</td>\n",
       "      <td>ELECTRICAL HAZARD</td>\n",
       "    </tr>\n",
       "    <tr>\n",
       "      <th>...</th>\n",
       "      <td>...</td>\n",
       "      <td>...</td>\n",
       "      <td>...</td>\n",
       "      <td>...</td>\n",
       "      <td>...</td>\n",
       "    </tr>\n",
       "    <tr>\n",
       "      <th>622</th>\n",
       "      <td>5/4/2020 12:21:00 AM</td>\n",
       "      <td>625 BENTON AV</td>\n",
       "      <td>36.131384</td>\n",
       "      <td>-86.770628</td>\n",
       "      <td>HIGH RISE NATURAL GAS ODOR</td>\n",
       "    </tr>\n",
       "    <tr>\n",
       "      <th>623</th>\n",
       "      <td>5/4/2020 12:21:32 AM</td>\n",
       "      <td>518 BRENTLAWN DR</td>\n",
       "      <td>36.064362</td>\n",
       "      <td>-86.761199</td>\n",
       "      <td>UNKNOWN STATUS</td>\n",
       "    </tr>\n",
       "    <tr>\n",
       "      <th>624</th>\n",
       "      <td>5/4/2020 12:22:47 AM</td>\n",
       "      <td>517 ALBANY DR</td>\n",
       "      <td>36.212754</td>\n",
       "      <td>-86.600431</td>\n",
       "      <td>ELECTRICAL HAZARD</td>\n",
       "    </tr>\n",
       "    <tr>\n",
       "      <th>625</th>\n",
       "      <td>5/4/2020 12:27:52 AM</td>\n",
       "      <td>639 LAFAYETTE ST</td>\n",
       "      <td>36.153769</td>\n",
       "      <td>-86.777520</td>\n",
       "      <td>SICK PERSON: NO PRIORITY SYMPTOMS</td>\n",
       "    </tr>\n",
       "    <tr>\n",
       "      <th>626</th>\n",
       "      <td>5/4/2020 12:29:50 AM</td>\n",
       "      <td>2011 HAYES ST</td>\n",
       "      <td>36.151839</td>\n",
       "      <td>-86.800791</td>\n",
       "      <td>PULL STATION ALARM COMMERCIAL   INDUSTRIAL BUILD</td>\n",
       "    </tr>\n",
       "  </tbody>\n",
       "</table>\n",
       "<p>627 rows × 5 columns</p>\n",
       "</div>"
      ],
      "text/plain": [
       "             IncidentDate            Location  Latitude1  Longitude1  \\\n",
       "0     5/3/2020 4:31:07 PM    901 KENWICK CT W  36.046877  -86.962526   \n",
       "1     5/3/2020 4:32:18 PM       8036 ARBOR DR  36.082491  -86.940680   \n",
       "2     5/3/2020 4:32:23 PM   119 DUE WEST AV E  36.248029  -86.716875   \n",
       "3     5/3/2020 4:33:04 PM  630 GALLATIN PKE S  36.256491  -86.714817   \n",
       "4     5/3/2020 4:33:52 PM   615 W HILLWOOD DR  36.129690  -86.879834   \n",
       "..                    ...                 ...        ...         ...   \n",
       "622  5/4/2020 12:21:00 AM       625 BENTON AV  36.131384  -86.770628   \n",
       "623  5/4/2020 12:21:32 AM    518 BRENTLAWN DR  36.064362  -86.761199   \n",
       "624  5/4/2020 12:22:47 AM       517 ALBANY DR  36.212754  -86.600431   \n",
       "625  5/4/2020 12:27:52 AM    639 LAFAYETTE ST  36.153769  -86.777520   \n",
       "626  5/4/2020 12:29:50 AM      2011 HAYES ST   36.151839  -86.800791   \n",
       "\n",
       "                             IncidentTypeDescription1  \n",
       "0                                   ELECTRICAL HAZARD  \n",
       "1                                   ELECTRICAL HAZARD  \n",
       "2                                      NOT ALERT COPD  \n",
       "3                                      ABDOMINAL PAIN  \n",
       "4                                   ELECTRICAL HAZARD  \n",
       "..                                                ...  \n",
       "622                        HIGH RISE NATURAL GAS ODOR  \n",
       "623                                    UNKNOWN STATUS  \n",
       "624                                 ELECTRICAL HAZARD  \n",
       "625                 SICK PERSON: NO PRIORITY SYMPTOMS  \n",
       "626  PULL STATION ALARM COMMERCIAL   INDUSTRIAL BUILD  \n",
       "\n",
       "[627 rows x 5 columns]"
      ]
     },
     "execution_count": 18,
     "metadata": {},
     "output_type": "execute_result"
    }
   ],
   "source": [
    "cad_data_derecho.dropna()"
   ]
  },
  {
   "cell_type": "code",
   "execution_count": 19,
   "metadata": {},
   "outputs": [
    {
     "data": {
      "text/plain": [
       "(627, 5)"
      ]
     },
     "execution_count": 19,
     "metadata": {},
     "output_type": "execute_result"
    }
   ],
   "source": [
    "cad_data_derecho.shape"
   ]
  },
  {
   "cell_type": "code",
   "execution_count": 21,
   "metadata": {},
   "outputs": [
    {
     "data": {
      "text/plain": [
       "IncidentTypeDescription1\n",
       "ELECTRICAL HAZARD                              370\n",
       "GENERAL ALARM COMMERCIAL   INDUSTRIAL BUILD     23\n",
       "MVA INJURIES:                                    8\n",
       "UNKNOWN STATUS:                                  6\n",
       "SMALL BUILDING INVESTIGATION                     6\n",
       "                                              ... \n",
       "NOT ALERT COPD                                   1\n",
       "NOT ALERT STRONG EVIDENCE <3 HOURS               1\n",
       "OBVIOUS DEATH                                    1\n",
       "OTHER PAIN                                       1\n",
       "3RD TRIMESTER HEMORRHAGE                         1\n",
       "Length: 122, dtype: int64"
      ]
     },
     "execution_count": 21,
     "metadata": {},
     "output_type": "execute_result"
    }
   ],
   "source": [
    "cad_data_derecho.value_counts('IncidentTypeDescription1')"
   ]
  },
  {
   "cell_type": "code",
   "execution_count": 23,
   "metadata": {},
   "outputs": [],
   "source": [
    "cad_data_tornado = pd.read_csv('data/CAD_tornado_incidents.csv', skiprows = 3)"
   ]
  },
  {
   "cell_type": "code",
   "execution_count": 24,
   "metadata": {},
   "outputs": [
    {
     "data": {
      "text/html": [
       "<div>\n",
       "<style scoped>\n",
       "    .dataframe tbody tr th:only-of-type {\n",
       "        vertical-align: middle;\n",
       "    }\n",
       "\n",
       "    .dataframe tbody tr th {\n",
       "        vertical-align: top;\n",
       "    }\n",
       "\n",
       "    .dataframe thead th {\n",
       "        text-align: right;\n",
       "    }\n",
       "</style>\n",
       "<table border=\"1\" class=\"dataframe\">\n",
       "  <thead>\n",
       "    <tr style=\"text-align: right;\">\n",
       "      <th></th>\n",
       "      <th>IncidentDate</th>\n",
       "      <th>Location</th>\n",
       "      <th>Latitude1</th>\n",
       "      <th>Longitude1</th>\n",
       "      <th>IncidentTypeDescription1</th>\n",
       "    </tr>\n",
       "  </thead>\n",
       "  <tbody>\n",
       "    <tr>\n",
       "      <th>0</th>\n",
       "      <td>3/3/2020 12:36:34 AM</td>\n",
       "      <td>6205 COCKRILL BEND CIR</td>\n",
       "      <td>36.182002</td>\n",
       "      <td>-86.894052</td>\n",
       "      <td>GENERAL ALARM COMMERCIAL   INDUSTRIAL BUILD</td>\n",
       "    </tr>\n",
       "    <tr>\n",
       "      <th>1</th>\n",
       "      <td>3/3/2020 12:37:24 AM</td>\n",
       "      <td>7337 COCKRILL BEND BLVD</td>\n",
       "      <td>36.175666</td>\n",
       "      <td>-86.894978</td>\n",
       "      <td>GENERAL ALARM COMMERCIAL   INDUSTRIAL BUILD</td>\n",
       "    </tr>\n",
       "    <tr>\n",
       "      <th>2</th>\n",
       "      <td>3/3/2020 12:38:17 AM</td>\n",
       "      <td>110 TUNE AIRPORT DR</td>\n",
       "      <td>36.179299</td>\n",
       "      <td>-86.883727</td>\n",
       "      <td>STRUCTURE FIRE COMMERCIAL   INDUSTRIAL</td>\n",
       "    </tr>\n",
       "    <tr>\n",
       "      <th>3</th>\n",
       "      <td>3/3/2020 12:39:40 AM</td>\n",
       "      <td>555 MARRIOTT DR</td>\n",
       "      <td>36.151108</td>\n",
       "      <td>-86.689921</td>\n",
       "      <td>GENERAL ALARM COMMERCIAL   INDUSTRIAL BUILD</td>\n",
       "    </tr>\n",
       "    <tr>\n",
       "      <th>4</th>\n",
       "      <td>3/3/2020 12:39:42 AM</td>\n",
       "      <td>1414 COUNTY HOSPITAL RD</td>\n",
       "      <td>36.177926</td>\n",
       "      <td>-86.845934</td>\n",
       "      <td>GENERAL ALARM COMMERCIAL   INDUSTRIAL BUILD</td>\n",
       "    </tr>\n",
       "  </tbody>\n",
       "</table>\n",
       "</div>"
      ],
      "text/plain": [
       "           IncidentDate                  Location  Latitude1  Longitude1  \\\n",
       "0  3/3/2020 12:36:34 AM   6205 COCKRILL BEND CIR   36.182002  -86.894052   \n",
       "1  3/3/2020 12:37:24 AM  7337 COCKRILL BEND BLVD   36.175666  -86.894978   \n",
       "2  3/3/2020 12:38:17 AM      110 TUNE AIRPORT DR   36.179299  -86.883727   \n",
       "3  3/3/2020 12:39:40 AM          555 MARRIOTT DR   36.151108  -86.689921   \n",
       "4  3/3/2020 12:39:42 AM  1414 COUNTY HOSPITAL RD   36.177926  -86.845934   \n",
       "\n",
       "                      IncidentTypeDescription1  \n",
       "0  GENERAL ALARM COMMERCIAL   INDUSTRIAL BUILD  \n",
       "1  GENERAL ALARM COMMERCIAL   INDUSTRIAL BUILD  \n",
       "2       STRUCTURE FIRE COMMERCIAL   INDUSTRIAL  \n",
       "3  GENERAL ALARM COMMERCIAL   INDUSTRIAL BUILD  \n",
       "4  GENERAL ALARM COMMERCIAL   INDUSTRIAL BUILD  "
      ]
     },
     "execution_count": 24,
     "metadata": {},
     "output_type": "execute_result"
    }
   ],
   "source": [
    "cad_data_tornado.head()"
   ]
  },
  {
   "cell_type": "code",
   "execution_count": 25,
   "metadata": {},
   "outputs": [
    {
     "data": {
      "text/plain": [
       "IncidentTypeDescription1\n",
       "GENERAL ALARM COMMERCIAL   INDUSTRIAL BUILD    27\n",
       "OUTSIDE ODOR                                   26\n",
       "WIRES DOWN WITH NO SMOKE OR ARCING             17\n",
       "SMALL BUILDING INVESTIGATION                   15\n",
       "ELECTRICAL HAZARD WITH OR NEAR WATER           12\n",
       "                                               ..\n",
       "HOUSE FIRE                                      1\n",
       "HIGH LIFE HAZARD   ODOR WITH PATIENT            1\n",
       "HEART PROBLEMS UNKNOWN STATUS                   1\n",
       "GENERAL ALARM HIGH LIFE HAZARD                  1\n",
       "ABDOMINAL PAIN - NOT ALERT                      1\n",
       "Length: 90, dtype: int64"
      ]
     },
     "execution_count": 25,
     "metadata": {},
     "output_type": "execute_result"
    }
   ],
   "source": [
    "cad_data_tornado.value_counts('IncidentTypeDescription1')"
   ]
  },
  {
   "cell_type": "code",
   "execution_count": 26,
   "metadata": {},
   "outputs": [
    {
     "data": {
      "text/plain": [
       "(260, 5)"
      ]
     },
     "execution_count": 26,
     "metadata": {},
     "output_type": "execute_result"
    }
   ],
   "source": [
    "cad_data_tornado.shape"
   ]
  },
  {
   "cell_type": "code",
   "execution_count": 27,
   "metadata": {},
   "outputs": [
    {
     "data": {
      "text/html": [
       "<div>\n",
       "<style scoped>\n",
       "    .dataframe tbody tr th:only-of-type {\n",
       "        vertical-align: middle;\n",
       "    }\n",
       "\n",
       "    .dataframe tbody tr th {\n",
       "        vertical-align: top;\n",
       "    }\n",
       "\n",
       "    .dataframe thead th {\n",
       "        text-align: right;\n",
       "    }\n",
       "</style>\n",
       "<table border=\"1\" class=\"dataframe\">\n",
       "  <thead>\n",
       "    <tr style=\"text-align: right;\">\n",
       "      <th></th>\n",
       "      <th>IncidentDate</th>\n",
       "      <th>Location</th>\n",
       "      <th>Latitude1</th>\n",
       "      <th>Longitude1</th>\n",
       "      <th>IncidentTypeDescription1</th>\n",
       "    </tr>\n",
       "  </thead>\n",
       "  <tbody>\n",
       "    <tr>\n",
       "      <th>0</th>\n",
       "      <td>3/3/2020 12:36:34 AM</td>\n",
       "      <td>6205 COCKRILL BEND CIR</td>\n",
       "      <td>36.182002</td>\n",
       "      <td>-86.894052</td>\n",
       "      <td>GENERAL ALARM COMMERCIAL   INDUSTRIAL BUILD</td>\n",
       "    </tr>\n",
       "    <tr>\n",
       "      <th>1</th>\n",
       "      <td>3/3/2020 12:37:24 AM</td>\n",
       "      <td>7337 COCKRILL BEND BLVD</td>\n",
       "      <td>36.175666</td>\n",
       "      <td>-86.894978</td>\n",
       "      <td>GENERAL ALARM COMMERCIAL   INDUSTRIAL BUILD</td>\n",
       "    </tr>\n",
       "    <tr>\n",
       "      <th>2</th>\n",
       "      <td>3/3/2020 12:38:17 AM</td>\n",
       "      <td>110 TUNE AIRPORT DR</td>\n",
       "      <td>36.179299</td>\n",
       "      <td>-86.883727</td>\n",
       "      <td>STRUCTURE FIRE COMMERCIAL   INDUSTRIAL</td>\n",
       "    </tr>\n",
       "    <tr>\n",
       "      <th>3</th>\n",
       "      <td>3/3/2020 12:39:40 AM</td>\n",
       "      <td>555 MARRIOTT DR</td>\n",
       "      <td>36.151108</td>\n",
       "      <td>-86.689921</td>\n",
       "      <td>GENERAL ALARM COMMERCIAL   INDUSTRIAL BUILD</td>\n",
       "    </tr>\n",
       "    <tr>\n",
       "      <th>4</th>\n",
       "      <td>3/3/2020 12:39:42 AM</td>\n",
       "      <td>1414 COUNTY HOSPITAL RD</td>\n",
       "      <td>36.177926</td>\n",
       "      <td>-86.845934</td>\n",
       "      <td>GENERAL ALARM COMMERCIAL   INDUSTRIAL BUILD</td>\n",
       "    </tr>\n",
       "    <tr>\n",
       "      <th>...</th>\n",
       "      <td>...</td>\n",
       "      <td>...</td>\n",
       "      <td>...</td>\n",
       "      <td>...</td>\n",
       "      <td>...</td>\n",
       "    </tr>\n",
       "    <tr>\n",
       "      <th>255</th>\n",
       "      <td>3/3/2020 4:53:43 AM</td>\n",
       "      <td>1616 23RD AV N</td>\n",
       "      <td>36.175739</td>\n",
       "      <td>-86.813173</td>\n",
       "      <td>WIRES DOWN WITH NO SMOKE OR ARCING POWER DISCO...</td>\n",
       "    </tr>\n",
       "    <tr>\n",
       "      <th>256</th>\n",
       "      <td>3/3/2020 4:56:56 AM</td>\n",
       "      <td>5610 OLD HICKORY BLVD</td>\n",
       "      <td>36.180487</td>\n",
       "      <td>-86.601466</td>\n",
       "      <td>LARGE BUILDING INVESTIGATION</td>\n",
       "    </tr>\n",
       "    <tr>\n",
       "      <th>257</th>\n",
       "      <td>3/3/2020 4:57:06 AM</td>\n",
       "      <td>2903 MORNINGSIDE DR</td>\n",
       "      <td>36.223554</td>\n",
       "      <td>-86.757949</td>\n",
       "      <td>CHEST PAIN - ABNORMAL BREATHING</td>\n",
       "    </tr>\n",
       "    <tr>\n",
       "      <th>258</th>\n",
       "      <td>3/3/2020 4:57:14 AM</td>\n",
       "      <td>1730 KELLOW ST</td>\n",
       "      <td>36.189445</td>\n",
       "      <td>-86.813466</td>\n",
       "      <td>ABNORMAL BREATHING OTHER LUNG PROBLEMS</td>\n",
       "    </tr>\n",
       "    <tr>\n",
       "      <th>259</th>\n",
       "      <td>3/3/2020 4:57:48 AM</td>\n",
       "      <td>I24 W / HICKORY HOLLOW PKWY</td>\n",
       "      <td>36.039720</td>\n",
       "      <td>-86.649099</td>\n",
       "      <td>UNKNOWN STATUS:</td>\n",
       "    </tr>\n",
       "  </tbody>\n",
       "</table>\n",
       "<p>260 rows × 5 columns</p>\n",
       "</div>"
      ],
      "text/plain": [
       "             IncidentDate                     Location  Latitude1  Longitude1  \\\n",
       "0    3/3/2020 12:36:34 AM      6205 COCKRILL BEND CIR   36.182002  -86.894052   \n",
       "1    3/3/2020 12:37:24 AM     7337 COCKRILL BEND BLVD   36.175666  -86.894978   \n",
       "2    3/3/2020 12:38:17 AM         110 TUNE AIRPORT DR   36.179299  -86.883727   \n",
       "3    3/3/2020 12:39:40 AM             555 MARRIOTT DR   36.151108  -86.689921   \n",
       "4    3/3/2020 12:39:42 AM     1414 COUNTY HOSPITAL RD   36.177926  -86.845934   \n",
       "..                    ...                          ...        ...         ...   \n",
       "255   3/3/2020 4:53:43 AM               1616 23RD AV N  36.175739  -86.813173   \n",
       "256   3/3/2020 4:56:56 AM        5610 OLD HICKORY BLVD  36.180487  -86.601466   \n",
       "257   3/3/2020 4:57:06 AM          2903 MORNINGSIDE DR  36.223554  -86.757949   \n",
       "258   3/3/2020 4:57:14 AM               1730 KELLOW ST  36.189445  -86.813466   \n",
       "259   3/3/2020 4:57:48 AM  I24 W / HICKORY HOLLOW PKWY  36.039720  -86.649099   \n",
       "\n",
       "                              IncidentTypeDescription1  \n",
       "0          GENERAL ALARM COMMERCIAL   INDUSTRIAL BUILD  \n",
       "1          GENERAL ALARM COMMERCIAL   INDUSTRIAL BUILD  \n",
       "2               STRUCTURE FIRE COMMERCIAL   INDUSTRIAL  \n",
       "3          GENERAL ALARM COMMERCIAL   INDUSTRIAL BUILD  \n",
       "4          GENERAL ALARM COMMERCIAL   INDUSTRIAL BUILD  \n",
       "..                                                 ...  \n",
       "255  WIRES DOWN WITH NO SMOKE OR ARCING POWER DISCO...  \n",
       "256                       LARGE BUILDING INVESTIGATION  \n",
       "257                    CHEST PAIN - ABNORMAL BREATHING  \n",
       "258             ABNORMAL BREATHING OTHER LUNG PROBLEMS  \n",
       "259                                    UNKNOWN STATUS:  \n",
       "\n",
       "[260 rows x 5 columns]"
      ]
     },
     "execution_count": 27,
     "metadata": {},
     "output_type": "execute_result"
    }
   ],
   "source": [
    "cad_data_tornado = cad_data_tornado.dropna()"
   ]
  },
  {
   "cell_type": "code",
   "execution_count": 28,
   "metadata": {},
   "outputs": [
    {
     "data": {
      "text/plain": [
       "(260, 5)"
      ]
     },
     "execution_count": 28,
     "metadata": {},
     "output_type": "execute_result"
    }
   ],
   "source": [
    "cad_data_tornado.shape"
   ]
  },
  {
   "cell_type": "code",
   "execution_count": 29,
   "metadata": {},
   "outputs": [
    {
     "data": {
      "text/plain": [
       "Location\n",
       "535 MAIN ST          3\n",
       "3204 DINAH CT        3\n",
       "310 N 9TH ST         3\n",
       "500 CHURCH ST        2\n",
       "1220 2ND AV N        2\n",
       "                    ..\n",
       "3417 LEBANON PKE     1\n",
       "333 UNION ST         1\n",
       "3213 FRENO LN        1\n",
       "321 BONNAHURST DR    1\n",
       "10 S 14TH ST         1\n",
       "Length: 217, dtype: int64"
      ]
     },
     "execution_count": 29,
     "metadata": {},
     "output_type": "execute_result"
    }
   ],
   "source": [
    "cad_data_tornado.value_counts('Location')"
   ]
  },
  {
   "cell_type": "code",
   "execution_count": 30,
   "metadata": {},
   "outputs": [
    {
     "data": {
      "text/plain": [
       "IncidentDate\n",
       "3/3/2020 1:15:14 AM     2\n",
       "3/3/2020 1:30:32 AM     2\n",
       "3/3/2020 12:47:35 AM    2\n",
       "3/3/2020 1:37:25 AM     2\n",
       "3/3/2020 1:05:10 AM     2\n",
       "                       ..\n",
       "3/3/2020 2:20:57 AM     1\n",
       "3/3/2020 2:20:17 AM     1\n",
       "3/3/2020 2:17:59 AM     1\n",
       "3/3/2020 2:17:14 AM     1\n",
       "3/3/2020 12:36:34 AM    1\n",
       "Length: 237, dtype: int64"
      ]
     },
     "execution_count": 30,
     "metadata": {},
     "output_type": "execute_result"
    }
   ],
   "source": [
    "cad_data_tornado.value_counts('IncidentDate')"
   ]
  },
  {
   "cell_type": "code",
   "execution_count": 31,
   "metadata": {},
   "outputs": [
    {
     "ename": "NameError",
     "evalue": "name 'cad_data_tornado_impact_time' is not defined",
     "output_type": "error",
     "traceback": [
      "\u001b[1;31m---------------------------------------------------------------------------\u001b[0m",
      "\u001b[1;31mNameError\u001b[0m                                 Traceback (most recent call last)",
      "\u001b[1;32m<ipython-input-31-715b21b8b8fb>\u001b[0m in \u001b[0;36m<module>\u001b[1;34m\u001b[0m\n\u001b[1;32m----> 1\u001b[1;33m \u001b[0mcad_data_tornado_impact_time\u001b[0m\u001b[1;33m[\u001b[0m\u001b[1;34m'12-1am'\u001b[0m\u001b[1;33m]\u001b[0m \u001b[1;33m=\u001b[0m \u001b[0mcad_data_tornado\u001b[0m\u001b[1;33m[\u001b[0m\u001b[0mcad_data_tornado\u001b[0m\u001b[1;33m[\u001b[0m\u001b[1;34m'IncidentDate'\u001b[0m\u001b[1;33m]\u001b[0m \u001b[1;33m==\u001b[0m \u001b[1;34m'12:00am'\u001b[0m\u001b[1;33m]\u001b[0m\u001b[1;33m\u001b[0m\u001b[1;33m\u001b[0m\u001b[0m\n\u001b[0m",
      "\u001b[1;31mNameError\u001b[0m: name 'cad_data_tornado_impact_time' is not defined"
     ]
    }
   ],
   "source": [
    "cad_data_tornado_impact_time['12-1am'] = cad_data_tornado[cad_data_tornado['IncidentDate'] == '12:00am']"
   ]
  },
  {
   "cell_type": "code",
   "execution_count": null,
   "metadata": {},
   "outputs": [],
   "source": []
  }
 ],
 "metadata": {
  "kernelspec": {
   "display_name": "Python 3",
   "language": "python",
   "name": "python3"
  },
  "language_info": {
   "codemirror_mode": {
    "name": "ipython",
    "version": 3
   },
   "file_extension": ".py",
   "mimetype": "text/x-python",
   "name": "python",
   "nbconvert_exporter": "python",
   "pygments_lexer": "ipython3",
   "version": "3.8.5"
  }
 },
 "nbformat": 4,
 "nbformat_minor": 4
}
